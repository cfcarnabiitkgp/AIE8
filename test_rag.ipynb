{
 "cells": [
  {
   "cell_type": "code",
   "execution_count": 28,
   "id": "8d32867d",
   "metadata": {},
   "outputs": [],
   "source": [
    "import getpass\n",
    "import os\n",
    "\n",
    "os.environ[\"LANGSMITH_TRACING\"] = \"true\"\n",
    "os.environ[\"LANGSMITH_API_KEY\"] = \"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\""
   ]
  },
  {
   "cell_type": "code",
   "execution_count": 29,
   "id": "29a8d8fa",
   "metadata": {},
   "outputs": [],
   "source": [
    "from langchain_openai import OpenAIEmbeddings\n",
    "\n",
    "embeddings = OpenAIEmbeddings(model=\"text-embedding-3-large\")"
   ]
  },
  {
   "cell_type": "code",
   "execution_count": 30,
   "id": "63b612b8",
   "metadata": {},
   "outputs": [],
   "source": [
    "from langchain_core.vectorstores import InMemoryVectorStore\n",
    "\n",
    "vector_store = InMemoryVectorStore(embeddings)"
   ]
  },
  {
   "cell_type": "code",
   "execution_count": 31,
   "id": "42dac820",
   "metadata": {},
   "outputs": [],
   "source": [
    "\n",
    "from langchain.chat_models import init_chat_model\n",
    "\n",
    "openai_api_key = os.environ[\"OPENAI_API_KEY\"]\n",
    "\n",
    "llm = init_chat_model(\"gpt-4o-mini\", model_provider=\"openai\")"
   ]
  },
  {
   "cell_type": "code",
   "execution_count": 32,
   "id": "ff48b7e4",
   "metadata": {},
   "outputs": [],
   "source": [
    "import bs4\n",
    "from langchain import hub\n",
    "from langchain_community.document_loaders import WebBaseLoader\n",
    "from langchain_core.documents import Document\n",
    "from langchain_text_splitters import RecursiveCharacterTextSplitter\n",
    "from langgraph.graph import START, StateGraph"
   ]
  },
  {
   "cell_type": "code",
   "execution_count": 33,
   "id": "c584c4f2",
   "metadata": {},
   "outputs": [],
   "source": [
    "# Load and chunk contents of the blog\n",
    "loader = WebBaseLoader(\n",
    "    web_paths=(\"https://lilianweng.github.io/posts/2023-06-23-agent/\",),\n",
    "    bs_kwargs=dict(\n",
    "        parse_only=bs4.SoupStrainer(\n",
    "            class_=(\"post-content\", \"post-title\", \"post-header\")\n",
    "        )\n",
    "    ),\n",
    ")\n",
    "docs = loader.load()"
   ]
  },
  {
   "cell_type": "code",
   "execution_count": 34,
   "id": "e8a580b2",
   "metadata": {},
   "outputs": [],
   "source": [
    "text_splitter = RecursiveCharacterTextSplitter(chunk_size=1000, chunk_overlap=200)\n",
    "all_splits = text_splitter.split_documents(docs)"
   ]
  },
  {
   "cell_type": "code",
   "execution_count": 35,
   "id": "ddcafad1",
   "metadata": {},
   "outputs": [],
   "source": [
    "# Index chunks\n",
    "document_ids = vector_store.add_documents(documents=all_splits)"
   ]
  },
  {
   "cell_type": "code",
   "execution_count": 36,
   "id": "8929d3d4",
   "metadata": {},
   "outputs": [
    {
     "data": {
      "text/plain": [
       "'e70b4e93-409e-4e09-bae6-aff49f565af4'"
      ]
     },
     "execution_count": 36,
     "metadata": {},
     "output_type": "execute_result"
    }
   ],
   "source": [
    "document_ids[0]"
   ]
  },
  {
   "cell_type": "code",
   "execution_count": null,
   "id": "cbf8540b",
   "metadata": {},
   "outputs": [],
   "source": [
    "prompt = hub.pull(\"rlm/rag-prompt\")"
   ]
  },
  {
   "cell_type": "code",
   "execution_count": null,
   "id": "291907df",
   "metadata": {},
   "outputs": [],
   "source": [
    "prompt"
   ]
  },
  {
   "cell_type": "code",
   "execution_count": null,
   "id": "f4565ac3",
   "metadata": {},
   "outputs": [],
   "source": [
    "from typing_extensions import List, TypedDict\n",
    "\n",
    "# Define state for application\n",
    "class State(TypedDict):\n",
    "    question: str\n",
    "    context: List[Document]\n",
    "    answer: str\n",
    "\n",
    "\n",
    "# Define application steps\n",
    "def retrieve(state: State):\n",
    "    retrieved_docs = vector_store.similarity_search(state[\"question\"])\n",
    "    return {\"context\": retrieved_docs}\n",
    "\n",
    "def generate(state: State):\n",
    "    docs_content = \"\\n\\n\".join(doc.page_content for doc in state[\"context\"])\n",
    "    messages = prompt.invoke({\"question\": state[\"question\"], \"context\": docs_content})\n",
    "    response = llm.invoke(messages)\n",
    "    return {\"answer\": response.content}"
   ]
  },
  {
   "cell_type": "code",
   "execution_count": null,
   "id": "c56d0cc7",
   "metadata": {},
   "outputs": [],
   "source": [
    "# Compile application and test\n",
    "graph_builder = StateGraph(State).add_sequence([retrieve, generate])\n",
    "graph_builder.add_edge(START, \"retrieve\")\n",
    "graph = graph_builder.compile()"
   ]
  },
  {
   "cell_type": "code",
   "execution_count": null,
   "id": "0a51acdb",
   "metadata": {},
   "outputs": [],
   "source": [
    "response = graph.invoke({\"question\": \"What is Task Decomposition?\"})\n",
    "print(response[\"answer\"])"
   ]
  },
  {
   "cell_type": "code",
   "execution_count": null,
   "id": "b4486cb0",
   "metadata": {},
   "outputs": [],
   "source": []
  },
  {
   "cell_type": "code",
   "execution_count": null,
   "id": "5c8b0d6e",
   "metadata": {},
   "outputs": [],
   "source": [
    "# Debug: Check what's in the vector store and document_ids\n",
    "print(\"=== DEBUGGING VECTOR STORE ===\")\n",
    "\n",
    "# Check if document_ids exists\n",
    "if 'document_ids' in locals():\n",
    "    print(f\"document_ids exists: {document_ids}\")\n",
    "    print(f\"document_ids length: {len(document_ids)}\")\n",
    "    print(f\"First few IDs: {document_ids[:3]}\")\n",
    "else:\n",
    "    print(\"document_ids is NOT defined in current scope\")\n",
    "\n",
    "# Check vector store internal state (using safer approach)\n",
    "try:\n",
    "    # Try to access the internal state\n",
    "    internal_embeddings = getattr(vector_store, '_embeddings', {})\n",
    "    print(f\"\\nVector store internal embeddings count: {len(internal_embeddings)}\")\n",
    "    print(f\"Available document IDs in vector store: {list(internal_embeddings.keys())[:5]}\")\n",
    "except:\n",
    "    print(\"\\nCould not access vector store internal state\")\n",
    "\n",
    "# Check if all_splits exists\n",
    "if 'all_splits' in locals():\n",
    "    print(f\"\\nall_splits exists with {len(all_splits)} documents\")\n",
    "    print(f\"First document preview: {all_splits[0].page_content[:100]}...\")\n",
    "else:\n",
    "    print(\"\\nall_splits is NOT defined\")\n"
   ]
  },
  {
   "cell_type": "code",
   "execution_count": null,
   "id": "b300542c",
   "metadata": {},
   "outputs": [],
   "source": [
    "# Fix: Re-add documents and get proper document IDs\n",
    "print(\"=== RE-ADDING DOCUMENTS ===\")\n",
    "\n",
    "# Make sure we have all_splits\n",
    "if 'all_splits' not in locals():\n",
    "    print(\"ERROR: all_splits not found. Please run the text splitting cell first.\")\n",
    "else:\n",
    "    # Clear the vector store first\n",
    "    vector_store = InMemoryVectorStore(embeddings)\n",
    "    \n",
    "    # Re-add documents and capture the IDs\n",
    "    document_ids = vector_store.add_documents(documents=all_splits)\n",
    "    \n",
    "    print(f\"Successfully added {len(document_ids)} documents\")\n",
    "    print(f\"Document IDs: {document_ids[:5]}\")\n",
    "    \n",
    "    # Now try to retrieve the first document\n",
    "    if document_ids:\n",
    "        doc = vector_store.get_by_ids([document_ids[0]])\n",
    "        print(f\"\\nRetrieved document 0: {len(doc)} documents\")\n",
    "        if doc:\n",
    "            print(f\"Content preview: {doc[0].page_content[:200]}...\")\n",
    "    else:\n",
    "        print(\"ERROR: No document IDs returned\")\n"
   ]
  }
 ],
 "metadata": {
  "kernelspec": {
   "display_name": ".venv",
   "language": "python",
   "name": "python3"
  },
  "language_info": {
   "codemirror_mode": {
    "name": "ipython",
    "version": 3
   },
   "file_extension": ".py",
   "mimetype": "text/x-python",
   "name": "python",
   "nbconvert_exporter": "python",
   "pygments_lexer": "ipython3",
   "version": "3.12.10"
  }
 },
 "nbformat": 4,
 "nbformat_minor": 5
}
