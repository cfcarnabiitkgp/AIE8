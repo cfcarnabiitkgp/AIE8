{
  "cells": [
    {
      "cell_type": "markdown",
      "metadata": {
        "id": "47eTBHYNP4g1"
      },
      "source": [
        "# Introduction to LCEL and LangGraph: LangChain Powered RAG\n",
        "\n",
        "In the following notebook we're going to focus on learning how to navigate and build useful applications using LangChain, specifically LCEL, and how to integrate different APIs together into a coherent RAG application!\n",
        "\n",
        "We'll be building a RAG system to answer questions about how people use AI, using the \"How People Use AI\" dataset.\n",
        "\n",
        "In the notebook, you'll complete the following Tasks:\n",
        "\n",
        "- 🤝 Breakout Room #2:\n",
        "    1. LangChain and LCEL Concepts\n",
        "    2. Understanding States and Nodes\n",
        "    3. Introduction to QDrant Vector Databases\n",
        "    4. Building a Basic Graph\n",
        "\n",
        "Let's get started!\n",
        "\n"
      ]
    },
    {
      "cell_type": "markdown",
      "metadata": {},
      "source": [
        "## Installation Requirements\n",
        "\n",
        "Also, make sure Ollama is installed and running with the required models pulled (see instructions below).\n"
      ]
    },
    {
      "cell_type": "markdown",
      "metadata": {},
      "source": [
        "## Optional: LangSmith Setup for Tracing and Monitoring\n",
        "\n",
        "LangSmith provides powerful tracing, monitoring, and debugging capabilities for LangChain applications. While not required for this notebook, setting it up will give you valuable insights into your RAG system's performance.\n",
        "\n",
        "### Getting LangSmith Credentials\n",
        "\n",
        "1. **Sign up for LangSmith**: Visit [smith.langchain.com](https://smith.langchain.com) and create a free account\n",
        "2. **Get your API Key**: \n",
        "   - Go to Settings → API Keys\n",
        "   - Create a new API key and copy it\n",
        "3. **Set your environment variables** (choose one method below):\n",
        "\n",
        "**Option A: Set environment variables in your terminal before starting Jupyter:**\n",
        "```bash\n",
        "export LANGCHAIN_TRACING_V2=true\n",
        "export LANGCHAIN_API_KEY=\"your-api-key-here\"\n",
        "export LANGCHAIN_PROJECT=\"RAG-Assignment\"\n",
        "```\n",
        "\n",
        "**Option B: Set them in the notebook (run the cell below):**\n"
      ]
    },
    {
      "cell_type": "code",
      "execution_count": 1,
      "metadata": {},
      "outputs": [
        {
          "name": "stdout",
          "output_type": "stream",
          "text": [
            "LangSmith tracing enabled: true\n",
            "Project name: RAG-Assignment\n"
          ]
        }
      ],
      "source": [
        "# Optional: Set up LangSmith tracing\n",
        "# Uncomment and fill in your credentials if you want to use LangSmith\n",
        "\n",
        "import os\n",
        "import getpass\n",
        "\n",
        "# Uncomment the lines below to enable LangSmith tracing\n",
        "os.environ[\"LANGCHAIN_TRACING_V2\"] = \"true\"\n",
        "os.environ[\"LANGCHAIN_API_KEY\"] = getpass.getpass(\"Enter your LangSmith API key: \")\n",
        "os.environ[\"LANGCHAIN_PROJECT\"] = \"RAG-Assignment\"\n",
        "\n",
        "#Verify setup (uncomment to check)\n",
        "print(\"LangSmith tracing enabled:\", os.getenv(\"LANGCHAIN_TRACING_V2\", \"false\"))\n",
        "print(\"Project name:\", os.getenv(\"LANGCHAIN_PROJECT\", \"Not set\"))\n"
      ]
    },
    {
      "cell_type": "markdown",
      "metadata": {},
      "source": [
        "### What LangSmith Provides\n",
        "\n",
        "Once set up, LangSmith will automatically trace your LangChain operations and provide:\n",
        "\n",
        "- **Execution traces**: See exactly how your RAG pipeline processes each query\n",
        "- **Performance metrics**: Monitor latency, token usage, and costs\n",
        "- **Debugging tools**: Inspect intermediate outputs at each step\n",
        "- **Error tracking**: Identify and debug issues in your chains\n",
        "- **Dataset management**: Collect and organize your queries and responses\n",
        "\n",
        "You can view all traces and analytics in your LangSmith dashboard at [smith.langchain.com](https://smith.langchain.com).\n",
        "\n",
        "> **Note**: LangSmith is completely optional for this assignment. The notebook will work perfectly fine without it, but it's a valuable tool for production applications.\n"
      ]
    },
    {
      "cell_type": "markdown",
      "metadata": {
        "id": "2ayVXHXHRE_t"
      },
      "source": [
        "# 🤝 Breakout Room #2"
      ]
    },
    {
      "cell_type": "markdown",
      "metadata": {
        "id": "sl6wTp9C5qbY"
      },
      "source": [
        "## Set Up Ollama\n",
        "\n",
        "We'll be using Ollama to run local LLM models. Make sure you have Ollama installed and running:\n",
        "\n",
        "1. Install Ollama from https://ollama.ai (`curl https://ollama.ai/install.sh | sh`)\n",
        "2. Make sure the output of `ollama -v` reads `0.11.10` or greater.\n",
        "2. Pull the models we'll use:\n",
        "   ```bash\n",
        "   ollama pull gpt-oss:20b # For the chat model\n",
        "   ollama pull embeddinggemma:latest  # For embeddings\n",
        "   ```\n",
        "3. Ensure Ollama is running (it should start automatically after installation)"
      ]
    },
    {
      "cell_type": "markdown",
      "metadata": {
        "id": "QTsujAkpRWpJ"
      },
      "source": [
        "### A Note On Runnables\n",
        "\n",
        "# Understanding LangChain Runnables and LCEL\n",
        "\n",
        "In LangChain, a Runnable is like a LEGO brick in your AI application - it's a standardized component that can be easily connected with other components. The real power of Runnables comes from their ability to be combined in flexible ways using LCEL (LangChain Expression Language).\n",
        "\n",
        "## Key Features of Runnables\n",
        "\n",
        "### 1. Universal Interface\n",
        "Every Runnable in LangChain follows the same pattern:\n",
        "- Takes an input\n",
        "- Performs some operation\n",
        "- Returns an output\n",
        "\n",
        "This consistency means you can treat different components (like models, retrievers, or parsers) in the same way.\n",
        "\n",
        "### 2. Built-in Parallelization\n",
        "Runnables come with methods for handling multiple inputs efficiently:\n",
        "```python\n",
        "# Process inputs in parallel, maintain order\n",
        "results = chain.batch([input1, input2, input3])\n",
        "\n",
        "# Process inputs as they complete\n",
        "for result in chain.batch_as_completed([input1, input2, input3]):\n",
        "    print(result)\n",
        "```\n",
        "\n",
        "### 3. Streaming Support\n",
        "Perfect for responsive applications:\n",
        "```python\n",
        "# Stream outputs as they're generated\n",
        "for chunk in chain.stream({\"query\": \"Tell me a story\"}):\n",
        "    print(chunk, end=\"\", flush=True)\n",
        "```\n",
        "\n",
        "### 4. Easy Composition\n",
        "The `|` operator makes building pipelines intuitive:\n",
        "```python\n",
        "# Create a basic RAG chain\n",
        "rag_chain = retriever | prompt | model | output_parser\n",
        "```\n",
        "\n",
        "## Common Types of Runnables\n",
        "\n",
        "- **Language Models**: Like our `ChatOllama` instance (running locally with Ollama)\n",
        "- **Prompt Templates**: Format inputs consistently\n",
        "- **Retrievers**: Get relevant context from a vector store\n",
        "- **Output Parsers**: Structure model outputs\n",
        "- **LangGraph Nodes**: Individual components in our graph\n",
        "\n",
        "Think of Runnables as the building blocks of your LLM application. Just like how you can combine LEGO bricks in countless ways, you can mix and match Runnables to create increasingly sophisticated applications!\n",
        "\n"
      ]
    },
    {
      "cell_type": "markdown",
      "metadata": {
        "id": "kaVlJiilDzwM"
      },
      "source": [
        "## LangGraph Based RAG\n",
        "\n",
        "Now that we have a reasonable grasp of LCEL and the idea of Runnables - let's see how we can use LangGraph to build the same system!"
      ]
    },
    {
      "cell_type": "markdown",
      "metadata": {
        "id": "I77-NKo1EowG"
      },
      "source": [
        "### Primer: What is LangGraph?\n",
        "LangGraph is a tool that leverages LangChain Expression Language to build coordinated multi-actor and stateful applications that includes cyclic behaviour.\n",
        "\n",
        "#### Why Cycles?\n",
        "In essence, we can think of a cycle in our graph as a more robust and customizable loop. It allows us to keep our application agent-forward while still giving the powerful functionality of traditional loops.\n",
        "\n",
        "Due to the inclusion of cycles over loops, we can also compose rather complex flows through our graph in a much more readable and natural fashion. Effectively allowing us to recreate application flowcharts in code in an almost 1-to-1 fashion.\n",
        "\n",
        "#### Why LangGraph?\n",
        "Beyond the agent-forward approach - we can easily compose and combine traditional \"DAG\" (directed acyclic graph) chains with powerful cyclic behaviour due to the tight integration with LCEL. This means it's a natural extension to LangChain's core offerings!\n",
        "\n",
        "> NOTE: We're going to focus on building a simple DAG for today's assignment as an introduction to LangGraph"
      ]
    },
    {
      "cell_type": "markdown",
      "metadata": {
        "id": "kfLCnMXNE_Qc"
      },
      "source": [
        "### Putting the State in Stateful\n",
        "\n",
        "Earlier we used this phrasing:\n",
        "\n",
        "> coordinated multi-actor and stateful applications\n",
        "\n",
        "So what does that \"stateful\" mean?\n",
        "\n",
        "To put it simply - we want to have some kind of object which we can pass around our application that holds information about what the current situation (state) is. Since our system will be constructed of many parts moving in a coordinated fashion - we want to be able to ensure we have some commonly understood idea of that state.\n",
        "\n",
        "LangGraph leverages a `StatefulGraph` which uses an `AgentState` object to pass information between the various nodes of the graph.\n",
        "\n",
        "There are more options than what we'll see below - but this `AgentState` object is one that is stored in a `TypedDict` with the key `messages` and the value is a `Sequence` of `BaseMessages` that will be appended to whenever the state changes.\n",
        "\n",
        "However, in our example here, we're focusing on a simpler `State` object:\n",
        "\n",
        "```python\n",
        "class State(TypedDict):\n",
        "    question: str\n",
        "    context: list[Document]\n",
        "    response: str\n",
        "```\n",
        "\n",
        "Let's think about a simple example to help understand exactly what this means (we'll simplify a great deal to try and clearly communicate what state is doing):\n",
        "\n",
        "1. **We initialize our state object**:\n",
        "   ```python\n",
        "   {\n",
        "       \"question\": \"\",\n",
        "       \"context\": [],\n",
        "       \"response\": \"\"\n",
        "   }\n",
        "   ```\n",
        "\n",
        "2. **Our user submits a query to our application.**  \n",
        "   We store the user's question in `state[\"question\"]`. Now we have:\n",
        "   ```python\n",
        "   {\n",
        "       \"question\": \"How tall is the Eiffel Tower?\",\n",
        "       \"context\": [],\n",
        "       \"response\": \"\"\n",
        "   }\n",
        "   ```\n",
        "\n",
        "3. **We pass our state object to an Agent node** which is able to read the current state. It will use the value of `state[\"question\"]` as input and might retrieve some context documents related to the question. It then generates a response which it stores in `state[\"response\"]`. For example:\n",
        "   ```python\n",
        "   {\n",
        "       \"question\": \"How tall is the Eiffel Tower?\",\n",
        "       \"context\": [Document(page_content=\"...some data...\")],\n",
        "       \"response\": \"The Eiffel Tower is about 324 meters tall...\"\n",
        "   }\n",
        "   ```\n",
        "\n",
        "That's it! The important part is that we have a consistent object (`State`) that's passed around, holding the crucial information as we go from one node to the next. This ensures our application has a single source of truth about what has happened so far and what is happening now.\n",
        "\n"
      ]
    },
    {
      "cell_type": "code",
      "execution_count": 2,
      "metadata": {
        "id": "kxczzsfVFNWT"
      },
      "outputs": [],
      "source": [
        "from langgraph.graph import START, StateGraph\n",
        "from typing_extensions import TypedDict\n",
        "from langchain_core.documents import Document\n",
        "\n",
        "class State(TypedDict):\n",
        "  question: str\n",
        "  context: list[Document]\n",
        "  response: str"
      ]
    },
    {
      "cell_type": "markdown",
      "metadata": {
        "id": "6l6xFY0_HoXG"
      },
      "source": [
        "Now that we have state, and we have tools, and we have an LLM - we can finally start making our graph!\n",
        "\n",
        "Let's take a second to refresh ourselves about what a graph is in this context.\n",
        "\n",
        "Graphs, also called networks in some circles, are a collection of connected objects.\n",
        "\n",
        "The objects in question are typically called nodes, or vertices, and the connections are called edges.\n",
        "\n",
        "Let's look at a simple graph.\n",
        "\n",
        "![image](https://i.imgur.com/2NFLnIc.png)\n",
        "\n",
        "Here, we're using the coloured circles to represent the nodes and the yellow lines to represent the edges. In this case, we're looking at a fully connected graph - where each node is connected by an edge to each other node.\n",
        "\n",
        "If we were to think about nodes in the context of LangGraph - we would think of a function, or an LCEL Runnable.\n",
        "\n",
        "If we were to think about edges in the context of LangGraph - we might think of them as \"paths to take\" or \"where to pass our state object next\".  "
      ]
    },
    {
      "cell_type": "markdown",
      "metadata": {
        "id": "keL9O1drInw1"
      },
      "source": [
        "### Building Nodes\n",
        "\n",
        "We're going to need two nodes:\n",
        "\n",
        "A node for retrieval, and a node for generation.\n",
        "\n",
        "Let's start with our `retrieve` node!\n",
        "\n",
        "Notice how we do not need to update the state object in the node, but can instead return a modification directly to our state."
      ]
    },
    {
      "cell_type": "markdown",
      "metadata": {},
      "source": [
        "#### Building a Retriever with LangChain\n",
        "\n",
        "In order to build our `retrieve` node, we'll first need to build a retriever!\n",
        "\n",
        "This will involve the following steps: \n",
        "\n",
        "1. Ingesting Data\n",
        "2. Chunking the Data\n",
        "3. Vectorizing the Data and Storing it in a Vector Database\n",
        "4. Converting it to a Retriever"
      ]
    },
    {
      "cell_type": "markdown",
      "metadata": {},
      "source": [
        "##### Retreiver Step 1: Ingesting Data\n",
        "\n",
        "In today's lesson, we're going to be building a RAG system to answer questions about how people use AI - and we will pull information into our index (vectorized chunks stored in our vector store) through LangChain's [`PyMuPDFLoader`](https://python.langchain.com/api_reference/community/document_loaders/langchain_community.document_loaders.pdf.PyMuPDFLoader.html)!"
      ]
    },
    {
      "cell_type": "markdown",
      "metadata": {},
      "source": [
        "> NOTE: We'll be using an async loader during our document ingesting - but our Jupyter Kernel is already running in an asyc loop! This means we'll want the ability to *nest* async loops. "
      ]
    },
    {
      "cell_type": "code",
      "execution_count": 3,
      "metadata": {},
      "outputs": [],
      "source": [
        "import nest_asyncio\n",
        "\n",
        "nest_asyncio.apply()"
      ]
    },
    {
      "cell_type": "markdown",
      "metadata": {},
      "source": [
        "Now, we're good to load our documents through the [`PyMuPDFLoader`](https://python.langchain.com/api_reference/community/document_loaders/langchain_community.document_loaders.pdf.PyMuPDFLoader.html)!"
      ]
    },
    {
      "cell_type": "code",
      "execution_count": 4,
      "metadata": {},
      "outputs": [],
      "source": [
        "from langchain_community.document_loaders import DirectoryLoader\n",
        "from langchain_community.document_loaders import PyMuPDFLoader\n",
        "\n",
        "directory_loader = DirectoryLoader(path=\"data\", glob=\"**/*.pdf\", loader_cls=PyMuPDFLoader)\n",
        "ai_usage_knowledge_resources = directory_loader.load()"
      ]
    },
    {
      "cell_type": "code",
      "execution_count": 5,
      "metadata": {},
      "outputs": [
        {
          "name": "stdout",
          "output_type": "stream",
          "text": [
            "Printing all attributes of the first resource:\n"
          ]
        },
        {
          "data": {
            "text/plain": [
              "{'id': None,\n",
              " 'metadata': {'producer': 'macOS Version 15.4.1 (Build 24E263) Quartz PDFContext, AppendMode 1.1',\n",
              "  'creator': 'LaTeX with hyperref',\n",
              "  'creationdate': '2025-09-12T20:05:32+00:00',\n",
              "  'source': 'data/howpeopleuseai.pdf',\n",
              "  'file_path': 'data/howpeopleuseai.pdf',\n",
              "  'total_pages': 64,\n",
              "  'format': 'PDF 1.6',\n",
              "  'title': 'How People Use ChatGPT',\n",
              "  'author': '',\n",
              "  'subject': '',\n",
              "  'keywords': '',\n",
              "  'moddate': '2025-09-15T10:32:36-04:00',\n",
              "  'trapped': '',\n",
              "  'modDate': \"D:20250915103236-04'00'\",\n",
              "  'creationDate': 'D:20250912200532Z',\n",
              "  'page': 1},\n",
              " 'page_content': 'How People Use ChatGPT\\nAaron Chatterji, Thomas Cunningham, David J. Deming, Zoe Hitzig, Christopher Ong, Carl\\nYan Shan, and Kevin Wadman\\nNBER Working Paper No. 34255\\nSeptember 2025\\nJEL No. J01, O3, O4\\nABSTRACT\\nDespite the rapid adoption of LLM chatbots, little is known about how they are used. We \\ndocument the growth of ChatGPT’s consumer product from its launch in November 2022 \\nthrough July 2025, when it had been adopted by around 10% of the world’s adult population. \\nEarly adopters were disproportionately male but the gender gap has narrowed dramatically, and \\nwe find higher growth rates in lower-income countries. Using a privacy-preserving automated \\npipeline, we classify usage patterns within a representative sample of ChatGPT conversations. \\nWe find steady growth in work-related messages but even faster growth in non-work-related \\nmessages, which have grown from 53% to more than 70% of all usage. Work usage is more \\ncommon for educated users in highly-paid professional occupations. We classify messages by \\nconversation topic and find that “Practical Guidance,” “Seeking Information,” and “Writing” are \\nthe three most common topics and collectively account for nearly 80% of all conversations. \\nWriting dominates work-related tasks, highlighting chatbots’ unique ability to generate digital \\noutputs compared to traditional search engines. Computer programming and self-expression both \\nrepresent relatively small shares of use. Overall, we find that ChatGPT provides economic value \\nthrough decision support, which is especially important in knowledge-intensive jobs.\\nAaron Chatterji\\nDuke University\\nFuqua School of Business \\nand OpenAI\\nronnie@duke.edu\\nThomas Cunningham \\nOpenAI\\ntom.cunningham@gmail.com\\nDavid J. Deming\\nHarvard University\\nHarvard Kennedy School \\nand NBER\\ndavid_deming@harvard.edu\\nZoe Hitzig\\nOpenAI\\nand Harvard Society of Fellows\\nzhitzig@g.harvard.edu\\nChristopher Ong\\nHarvard University\\nand OpenAI\\nchristopherong@hks.harvard.edu\\nCarl Yan Shan\\nOpenAI\\ncshan@openai.com\\nKevin Wadman\\nOpenAI\\nkevin.wadman@c-openai.com',\n",
              " 'type': 'Document'}"
            ]
          },
          "execution_count": 5,
          "metadata": {},
          "output_type": "execute_result"
        }
      ],
      "source": [
        "print(\"Printing all attributes of the first resource:\")\n",
        "ai_usage_knowledge_resources[1].__dict__"
      ]
    },
    {
      "cell_type": "code",
      "execution_count": 6,
      "metadata": {},
      "outputs": [
        {
          "data": {
            "text/plain": [
              "'NBER WORKING PAPER SERIES\\nHOW PEOPLE USE CHATGPT\\nAaron Chatterji\\nThomas Cunningham\\nDavid J. Deming\\nZoe Hitzig\\nChristopher Ong\\nCarl Yan Shan\\nKevin Wadman\\nWorking Paper 34255\\nhttp://www.nber.org/papers/w34255\\nNATIONAL BUREAU OF ECONOMIC RESEARCH\\n1050 Massachusetts Avenue\\nCambridge, MA 02138\\nSeptember 2025\\nWe acknowledge help and comments from Joshua Achiam, Hemanth Asirvatham, Ryan \\nBeiermeister, Rachel Brown, Cassandra Duchan Solis, Jason Kwon, Elliott Mokski, Kevin Rao, \\nHarrison Satcher, Gawesha Weeratunga, Hannah Wong, and Analytics & Insights team. We \\nespecially thank Tyna Eloundou and Pamela Mishkin who in several ways laid the foundation for \\nthis work. This study was approved by Harvard IRB (IRB25-0983). A repository containing all \\ncode run to produce the analyses in this paper is available on request. The views expressed herein \\nare those of the authors and do not necessarily reflect the views of the National Bureau of \\nEconomic Research.\\nAt least one co-author has disclosed a'"
            ]
          },
          "execution_count": 6,
          "metadata": {},
          "output_type": "execute_result"
        }
      ],
      "source": [
        "ai_usage_knowledge_resources[0].page_content[:1000]"
      ]
    },
    {
      "cell_type": "code",
      "execution_count": 7,
      "metadata": {},
      "outputs": [
        {
          "name": "stdout",
          "output_type": "stream",
          "text": [
            "Number of resources: 64\n"
          ]
        }
      ],
      "source": [
        "print(f\"Number of resources: {len(ai_usage_knowledge_resources)}\")"
      ]
    },
    {
      "cell_type": "markdown",
      "metadata": {},
      "source": [
        "#### TextSplitting aka Chunking\n",
        "\n",
        "We'll use the `RecursiveCharacterTextSplitter` to create our toy example.\n",
        "\n",
        "It will split based on the following rules:\n",
        "\n",
        "- Each chunk has a maximum size of 1000 tokens\n",
        "- It will try and split first on the `\\n\\n` character, then on the `\\n`, then on the `<SPACE>` character, and finally it will split on individual tokens.\n",
        "\n",
        "Let's implement it and see the results!"
      ]
    },
    {
      "cell_type": "code",
      "execution_count": 8,
      "metadata": {},
      "outputs": [],
      "source": [
        "import tiktoken\n",
        "from langchain.text_splitter import RecursiveCharacterTextSplitter\n",
        "\n",
        "def tiktoken_len(text):\n",
        "    # Using cl100k_base encoding which is a good general-purpose tokenizer\n",
        "    # This works well for estimating token counts even with Ollama models\n",
        "    tokens = tiktoken.get_encoding(\"cl100k_base\").encode(\n",
        "        text,\n",
        "    )\n",
        "    return len(tokens)\n",
        "\n",
        "text_splitter = RecursiveCharacterTextSplitter(\n",
        "    chunk_size = 750,\n",
        "    chunk_overlap = 0,\n",
        "    length_function = tiktoken_len,\n",
        ")"
      ]
    },
    {
      "cell_type": "code",
      "execution_count": 9,
      "metadata": {},
      "outputs": [],
      "source": [
        "ai_usage_knowledge_chunks = text_splitter.split_documents(ai_usage_knowledge_resources)"
      ]
    },
    {
      "cell_type": "code",
      "execution_count": 10,
      "metadata": {},
      "outputs": [
        {
          "name": "stdout",
          "output_type": "stream",
          "text": [
            "Number of chunks: 72\n",
            "First chunk's content: NBER WORKING PAPER SERIES\n",
            "HOW PEOPLE USE CHATGPT\n",
            "Aaron Chatterji\n",
            "Thomas Cunningham\n",
            "David J. Deming\n",
            "Z\n",
            "First chunk's metadata: {'producer': 'macOS Version 15.4.1 (Build 24E263) Quartz PDFContext, AppendMode 1.1', 'creator': 'LaTeX with hyperref', 'creationdate': '2025-09-12T20:05:32+00:00', 'source': 'data/howpeopleuseai.pdf', 'file_path': 'data/howpeopleuseai.pdf', 'total_pages': 64, 'format': 'PDF 1.6', 'title': 'How People Use ChatGPT', 'author': '', 'subject': '', 'keywords': '', 'moddate': '2025-09-15T10:32:36-04:00', 'trapped': '', 'modDate': \"D:20250915103236-04'00'\", 'creationDate': 'D:20250912200532Z', 'page': 0}\n",
            "Type of first chunk: <class 'langchain_core.documents.base.Document'>\n"
          ]
        }
      ],
      "source": [
        "print(f\"Number of chunks: {len(ai_usage_knowledge_chunks)}\")\n",
        "\n",
        "print(f\"First chunk's content: {ai_usage_knowledge_chunks[0].page_content[:100]}\")\n",
        "print(f\"First chunk's metadata: {ai_usage_knowledge_chunks[0].metadata}\")\n",
        "print(f\"Type of first chunk: {type(ai_usage_knowledge_chunks[0])}\")\n"
      ]
    },
    {
      "cell_type": "markdown",
      "metadata": {},
      "source": [
        "##### 🏗️ Activity #1:\n",
        "\n",
        "While there's nothing specifically wrong with the chunking method used above - it is a naive approach that is not sensitive to specific data formats.\n",
        "\n",
        "Brainstorm some ideas that would split large single documents into smaller documents.\n",
        "\n",
        "1. **Semantic Chunking**: Use embeddings to identify semantically similar content and group them together, ensuring each chunk contains coherent, related information rather than arbitrary text boundaries.\n",
        "\n",
        "2. **Structure-Aware Splitting**: Parse document structure (headings, sections, paragraphs) and split at natural boundaries like chapter breaks, section headers, or topic transitions to preserve logical flow.\n",
        "\n",
        "3. **Sliding Window with Overlap**: Implement a sliding window approach with significant overlap (e.g., 20-30%) between chunks to ensure context isn't lost at boundaries and important information isn't split across chunks.\n",
        "\n",
        "4. **Sentence Boundary Splitting**: Split at sentence boundaries rather than character limits, ensuring each chunk contains complete thoughts and maintains grammatical integrity.\n",
        "\n",
        "5. **Topic-Based Chunking**: Use topic modeling (LDA, BERTopic) to identify topic boundaries and split documents at topic transitions, creating chunks that are thematically coherent.\n",
        "\n",
        "6. **Hierarchical Chunking**: Create a multi-level hierarchy where large documents are first split into major sections, then subsections, allowing for both broad and granular retrieval."
      ]
    },
    {
      "cell_type": "markdown",
      "metadata": {},
      "source": [
        "#### Embeddings and Dense Vector Search\n",
        "\n",
        "Now that we have our individual chunks, we need a system to correctly select the relevant pieces of information to answer our query.\n",
        "\n",
        "This sounds like a perfect job for embeddings!\n",
        "\n",
        "We'll be using Ollama's `embeddinggemma` model as our embedding model today! This is a powerful open-source embedding model that runs locally.\n",
        "\n",
        "Let's load it up through LangChain."
      ]
    },
    {
      "cell_type": "code",
      "execution_count": 11,
      "metadata": {},
      "outputs": [],
      "source": [
        "from langchain_ollama import OllamaEmbeddings\n",
        " \n",
        "# Using embeddinggemma which is a powerful open-source embedding model\n",
        "embedding_model = OllamaEmbeddings(model=\"embeddinggemma:latest\")"
      ]
    },
    {
      "cell_type": "markdown",
      "metadata": {},
      "source": [
        "##### ❓ Question #1:\n",
        "\n",
        "What is the embedding dimension, given that we're using `embeddinggemma`?\n",
        "\n",
        "You will need to fill the next cell out correctly with your embedding dimension for the rest of the notebook to run."
      ]
    },
    {
      "cell_type": "code",
      "execution_count": 12,
      "metadata": {},
      "outputs": [],
      "source": [
        "test_query = \"I am the test query for your embedding dimension\"\n",
        "test_embedding = embedding_model.embed_query(test_query)"
      ]
    },
    {
      "cell_type": "code",
      "execution_count": 13,
      "metadata": {},
      "outputs": [
        {
          "name": "stdout",
          "output_type": "stream",
          "text": [
            "Embedding dimension: 768\n"
          ]
        }
      ],
      "source": [
        "embedding_dim = len(test_embedding)\n",
        "print(f\"Embedding dimension: {embedding_dim}\")"
      ]
    },
    {
      "cell_type": "markdown",
      "metadata": {},
      "source": [
        "#### Using A Vector Database - Intoduction to Qdrant\n",
        "\n",
        "Up to this point, we've been using a dictionary to hold our embeddings - typically, we'll want to use a more robust strategy.\n",
        "\n",
        "In this bootcamp - we'll be focusing on leveraging [Qdrant's vector database](https://qdrant.tech/qdrant-vector-database/).\n",
        "\n",
        "Let's take a look at how we set-up Qdrant!\n",
        "\n",
        "> NOTE: We'll be spending a lot of time learning about Qdrant throughout the remainder of our time together - but for an initial primer, please check out [this resource](https://qdrant.tech/articles/what-is-a-vector-database/)\n",
        "\n",
        "We are going to be using an \"in-memory\" Qdrant client, which means that our vectors will be held in our system's memory (RAM) - this is useful for prototyping and developement at smaller scales - but would need to be modified when moving to production. Luckily for us, this modification is trivial!\n",
        "\n",
        "> NOTE: While LangChain uses the terminology \"VectorStore\" (also known as a Vector Library), Qdrant is a \"Vector Database\" - more info. on that [here.](https://weaviate.io/blog/vector-library-vs-vector-database)"
      ]
    },
    {
      "cell_type": "code",
      "execution_count": 14,
      "metadata": {},
      "outputs": [],
      "source": [
        "from langchain_qdrant import QdrantVectorStore\n",
        "from qdrant_client import QdrantClient\n",
        "from qdrant_client.http.models import Distance, VectorParams\n",
        "\n",
        "client = QdrantClient(\":memory:\")"
      ]
    },
    {
      "cell_type": "markdown",
      "metadata": {},
      "source": [
        "Next, we need to create a collection - a collection is a specific...collection of vectors within the Qdrant client.\n",
        "\n",
        "These are useful as they allow us to create multiple different \"warehouses\" in a single client, which can be leveraged for personalization and more!\n",
        "\n",
        "Also notice that we define what our vector shapes are (embedding dim) as well as our desired distance metric."
      ]
    },
    {
      "cell_type": "code",
      "execution_count": 15,
      "metadata": {},
      "outputs": [
        {
          "data": {
            "text/plain": [
              "True"
            ]
          },
          "execution_count": 15,
          "metadata": {},
          "output_type": "execute_result"
        }
      ],
      "source": [
        "client.create_collection(\n",
        "    collection_name=\"ai_usage_knowledge_index\",\n",
        "    vectors_config=VectorParams(size=embedding_dim, distance=Distance.COSINE),\n",
        ")"
      ]
    },
    {
      "cell_type": "markdown",
      "metadata": {},
      "source": [
        "Now we can assemble our vector database! Notice that we provide our client, our created collection, and our embedding model!"
      ]
    },
    {
      "cell_type": "code",
      "execution_count": 133,
      "metadata": {},
      "outputs": [],
      "source": [
        "vector_store = QdrantVectorStore(\n",
        "    client=client,\n",
        "    collection_name=\"ai_usage_knowledge_index\",\n",
        "    embedding=embedding_model, # embedding model for embedding document or document chunks\n",
        ")"
      ]
    },
    {
      "cell_type": "markdown",
      "metadata": {},
      "source": [
        "Now that we have our vector database set-up, we can add our documents into it!"
      ]
    },
    {
      "cell_type": "code",
      "execution_count": 134,
      "metadata": {},
      "outputs": [],
      "source": [
        "_ = vector_store.add_documents(documents=ai_usage_knowledge_chunks)"
      ]
    },
    {
      "cell_type": "markdown",
      "metadata": {},
      "source": [
        "#### Creating a Retriever\n",
        "\n",
        "Now that we have an idea of how we're getting our most relevant information - let's see how we could create a pipeline that would automatically extract the closest chunk to our query and use it as context for our prompt!\n",
        "\n",
        "This will involve a popular LangChain interace known as `as_retriever`!\n",
        "\n",
        "> NOTE: We can still specify how many documents we wish to retrieve per vector."
      ]
    },
    {
      "cell_type": "code",
      "execution_count": 18,
      "metadata": {},
      "outputs": [],
      "source": [
        "retriever = vector_store.as_retriever(search_kwargs={\"k\": 5})"
      ]
    },
    {
      "cell_type": "code",
      "execution_count": 19,
      "metadata": {},
      "outputs": [
        {
          "data": {
            "text/plain": [
              "[Document(metadata={'producer': 'macOS Version 15.4.1 (Build 24E263) Quartz PDFContext, AppendMode 1.1', 'creator': 'LaTeX with hyperref', 'creationdate': '2025-09-12T20:05:32+00:00', 'source': 'data/howpeopleuseai.pdf', 'file_path': 'data/howpeopleuseai.pdf', 'total_pages': 64, 'format': 'PDF 1.6', 'title': 'How People Use ChatGPT', 'author': '', 'subject': '', 'keywords': '', 'moddate': '2025-09-15T10:32:36-04:00', 'trapped': '', 'modDate': \"D:20250915103236-04'00'\", 'creationDate': 'D:20250912200532Z', 'page': 34, '_id': 'edb1274872f346b48af26e2687efac0a', '_collection_name': 'ai_usage_knowledge_index'}, page_content='Panel A. Work Related\\nPanel B1. Asking.\\nPanel B2. Doing.\\nFigure 23: (continued on next page)\\n33'),\n",
              " Document(metadata={'producer': 'macOS Version 15.4.1 (Build 24E263) Quartz PDFContext, AppendMode 1.1', 'creator': 'LaTeX with hyperref', 'creationdate': '2025-09-12T20:05:32+00:00', 'source': 'data/howpeopleuseai.pdf', 'file_path': 'data/howpeopleuseai.pdf', 'total_pages': 64, 'format': 'PDF 1.6', 'title': 'How People Use ChatGPT', 'author': '', 'subject': '', 'keywords': '', 'moddate': '2025-09-15T10:32:36-04:00', 'trapped': '', 'modDate': \"D:20250915103236-04'00'\", 'creationDate': 'D:20250912200532Z', 'page': 30, '_id': 'f3675c189bd5400aafd4e27dbe26b52c', '_collection_name': 'ai_usage_knowledge_index'}, page_content='Panel A. Work Related\\nPanel B1. Asking.\\nPanel B2. Doing.\\nPanel B3. Expressing.\\nFigure 22: (continued on next page)\\n29'),\n",
              " Document(metadata={'producer': 'macOS Version 15.4.1 (Build 24E263) Quartz PDFContext, AppendMode 1.1', 'creator': 'LaTeX with hyperref', 'creationdate': '2025-09-12T20:05:32+00:00', 'source': 'data/howpeopleuseai.pdf', 'file_path': 'data/howpeopleuseai.pdf', 'total_pages': 64, 'format': 'PDF 1.6', 'title': 'How People Use ChatGPT', 'author': '', 'subject': '', 'keywords': '', 'moddate': '2025-09-15T10:32:36-04:00', 'trapped': '', 'modDate': \"D:20250915103236-04'00'\", 'creationDate': 'D:20250912200532Z', 'page': 53, '_id': '4cb62409afc147b2bbee99f724690bac', '_collection_name': 'ai_usage_knowledge_index'}, page_content=\"E.g. 'User is rewriting email to neighbors about\\nplumbing to be more friendly,'\\nor 'User is complaining about grandmother'\\nor 'User is asking for help fixing python databricks error.'\\n31The IWA classifications were carried out by two annotators, while all other classifications had three.\\n52\"),\n",
              " Document(metadata={'producer': 'macOS Version 15.4.1 (Build 24E263) Quartz PDFContext, AppendMode 1.1', 'creator': 'LaTeX with hyperref', 'creationdate': '2025-09-12T20:05:32+00:00', 'source': 'data/howpeopleuseai.pdf', 'file_path': 'data/howpeopleuseai.pdf', 'total_pages': 64, 'format': 'PDF 1.6', 'title': 'How People Use ChatGPT', 'author': '', 'subject': '', 'keywords': '', 'moddate': '2025-09-15T10:32:36-04:00', 'trapped': '', 'modDate': \"D:20250915103236-04'00'\", 'creationDate': 'D:20250912200532Z', 'page': 37, '_id': '45770f9312634eef80f279c8e7262e97', '_collection_name': 'ai_usage_knowledge_index'}, page_content='in knowledge-intensive jobs where productivity is increasing in the quality of decision-making.\\n36'),\n",
              " Document(metadata={'producer': 'macOS Version 15.4.1 (Build 24E263) Quartz PDFContext, AppendMode 1.1', 'creator': 'LaTeX with hyperref', 'creationdate': '2025-09-12T20:05:32+00:00', 'source': 'data/howpeopleuseai.pdf', 'file_path': 'data/howpeopleuseai.pdf', 'total_pages': 64, 'format': 'PDF 1.6', 'title': 'How People Use ChatGPT', 'author': '', 'subject': '', 'keywords': '', 'moddate': '2025-09-15T10:32:36-04:00', 'trapped': '', 'modDate': \"D:20250915103236-04'00'\", 'creationDate': 'D:20250912200532Z', 'page': 32, '_id': '2f038a6ea4814f87a24cbc9ac5958d99', '_collection_name': 'ai_usage_knowledge_index'}, page_content='27As discussed in Section: Data and Privacy, our dataset only includes users on ChatGPT Consumer plans. Corporate\\nusers may also use ChatGPT Business (formerly known as Teams) or ChatGPT Enterprise.\\n28Very few work-related messages are classified as Expressing.\\n29Appendix D contains a full report of GWA counts broken down by occupation, for both work-related ChatGPT\\n31')]"
            ]
          },
          "execution_count": 19,
          "metadata": {},
          "output_type": "execute_result"
        }
      ],
      "source": [
        "retriever.invoke(\"How do people use AI in their daily work?\")"
      ]
    },
    {
      "cell_type": "markdown",
      "metadata": {},
      "source": [
        "#### Creating the Node\n",
        "\n",
        "We're finally ready to create our node!"
      ]
    },
    {
      "cell_type": "code",
      "execution_count": 20,
      "metadata": {
        "id": "05qhncktIwK_"
      },
      "outputs": [],
      "source": [
        "def retrieve(state: State) -> State:\n",
        "  retrieved_docs = retriever.invoke(state[\"question\"])\n",
        "  return {\"context\" : retrieved_docs}"
      ]
    },
    {
      "cell_type": "markdown",
      "metadata": {},
      "source": [
        "### Generate Node\n",
        "\n",
        "Next, let's create our `generate` node - which will leverage LangChain and something called an \"LCEL Chain\" which you can read more about [here](https://python.langchain.com/docs/concepts/lcel/)!\n",
        "\n",
        "We'll want to create a chain that does the following: \n",
        "\n",
        "1. Formats our inputs into a chat template suitable for RAG\n",
        "2. Takes that chat template and sends it to an LLM\n",
        "3. Parses that output into `str` format\n",
        "\n",
        "Let's get chaining!"
      ]
    },
    {
      "cell_type": "markdown",
      "metadata": {},
      "source": [
        "#### Chain Components: RAG Chat Template\n",
        "\n",
        "We'll create a chat template that takes in some query and formats it as a RAG prompt using LangChain's prompt template!"
      ]
    },
    {
      "cell_type": "code",
      "execution_count": 21,
      "metadata": {},
      "outputs": [],
      "source": [
        "from langchain_core.prompts import ChatPromptTemplate\n",
        "\n",
        "HUMAN_TEMPLATE = \"\"\"\n",
        "#CONTEXT:\n",
        "{context}\n",
        "\n",
        "QUERY:\n",
        "{query}\n",
        "\n",
        "Use the provide context to answer the provided user query. Only use the provided context to answer the query. If you do not know the answer, or it's not contained in the provided context response with \"I don't know\"\n",
        "\"\"\"\n",
        "\n",
        "chat_prompt = ChatPromptTemplate.from_messages([\n",
        "    (\"human\", HUMAN_TEMPLATE)\n",
        "])"
      ]
    },
    {
      "cell_type": "code",
      "execution_count": 22,
      "metadata": {},
      "outputs": [
        {
          "data": {
            "text/plain": [
              "'\\n#CONTEXT:\\nOUR CONTEXT HERE\\n\\nQUERY:\\nOUR QUERY HERE\\n\\nUse the provide context to answer the provided user query. Only use the provided context to answer the query. If you do not know the answer, or it\\'s not contained in the provided context response with \"I don\\'t know\"\\n'"
            ]
          },
          "execution_count": 22,
          "metadata": {},
          "output_type": "execute_result"
        }
      ],
      "source": [
        "chat_prompt.invoke({\"context\" : \"OUR CONTEXT HERE\", \"query\" : \"OUR QUERY HERE\"}).messages[0].content \n",
        "\n",
        "# you can also use the .to_messages() to get list of messages \n"
      ]
    },
    {
      "cell_type": "markdown",
      "metadata": {},
      "source": [
        "##### Chain Components: Generator\n",
        "\n",
        "We'll next set-up the generator - which will be Ollama's `gpt-oss:20b` model running locally!\n",
        "\n",
        "ARNAB: I will be using `qwen3:8b` to make some of the inferences faster"
      ]
    },
    {
      "cell_type": "code",
      "execution_count": 23,
      "metadata": {},
      "outputs": [],
      "source": [
        "from langchain_ollama import ChatOllama\n",
        "\n",
        "# Using gpt-oss:20b which is a powerful and efficient local model\n",
        "# ollama_chat_model = ChatOllama(model=\"gpt-oss:20b\", temperature=0.6)\n",
        "ollama_chat_model = ChatOllama(model=\"qwen3:8b\", temperature=0.6)"
      ]
    },
    {
      "cell_type": "markdown",
      "metadata": {},
      "source": [
        "Let's now call our model with a formatted prompt.\n",
        "\n",
        "Notice that we have some nested calls here - we'll see that this is made easier by LCEL."
      ]
    },
    {
      "cell_type": "code",
      "execution_count": 24,
      "metadata": {},
      "outputs": [
        {
          "data": {
            "text/plain": [
              "AIMessage(content='<think>\\nOkay, the user is asking for the capital of France. Let me check the context provided. The context says, \"Paris is the capital of France.\" So that\\'s straightforward. The answer should be Paris. I need to make sure I only use the given context and not any outside knowledge. Since the context directly answers the query, I can confidently respond with Paris. No need to mention anything else.\\n</think>\\n\\nThe capital of France is Paris.', additional_kwargs={}, response_metadata={'model': 'qwen3:8b', 'created_at': '2025-09-22T19:05:15.859093Z', 'done': True, 'done_reason': 'stop', 'total_duration': 9887666417, 'load_duration': 3996798667, 'prompt_eval_count': 73, 'prompt_eval_duration': 926828542, 'eval_count': 93, 'eval_duration': 4963109208, 'model_name': 'qwen3:8b'}, id='run--ffc44110-93a4-407f-9665-a78053c8800d-0', usage_metadata={'input_tokens': 73, 'output_tokens': 93, 'total_tokens': 166})"
            ]
          },
          "execution_count": 24,
          "metadata": {},
          "output_type": "execute_result"
        }
      ],
      "source": [
        "ollama_chat_model.invoke(chat_prompt.invoke({\"context\" : \"Paris is the capital of France\", \"query\" : \"What is the capital of France?\"}))"
      ]
    },
    {
      "cell_type": "markdown",
      "metadata": {},
      "source": [
        "#### Chain Components: `str` Parser\n",
        "\n",
        "Finally, let's set-up our `StrOutputParser()` which will transform our model's output into a simple `str` to be provided to the user.\n",
        "\n",
        "> NOTE: You can see us leveraging LCEL in the example below to avoid needing to do nested calls."
      ]
    },
    {
      "cell_type": "code",
      "execution_count": 25,
      "metadata": {},
      "outputs": [
        {
          "data": {
            "text/plain": [
              "'<think>\\nOkay, the user is asking for the capital of France. Let me check the context provided. The context says, \"Paris is the capital of France.\" So that\\'s a straightforward answer. I just need to repeat that information. Since the context directly answers the query, there\\'s no need to guess or add extra details. I\\'ll make sure to use only the given context and not any external knowledge. The answer should be Paris.\\n</think>\\n\\nThe capital of France is Paris.'"
            ]
          },
          "execution_count": 25,
          "metadata": {},
          "output_type": "execute_result"
        }
      ],
      "source": [
        "from langchain_core.output_parsers import StrOutputParser\n",
        "\n",
        "generator_chain = chat_prompt | ollama_chat_model | StrOutputParser()\n",
        "\n",
        "generator_chain.invoke({\"context\" : \"Paris is the capital of France\", \"query\" : \"What is the capital of France?\"})"
      ]
    },
    {
      "cell_type": "markdown",
      "metadata": {},
      "source": [
        "### `generate` Node: \n",
        "\n",
        "Now we can create our `generate` Node!"
      ]
    },
    {
      "cell_type": "code",
      "execution_count": 26,
      "metadata": {
        "id": "XiL2isC8JS0l"
      },
      "outputs": [],
      "source": [
        "def generate(state: State) -> State:\n",
        "  generator_chain = chat_prompt | ollama_chat_model | StrOutputParser()\n",
        "  response = generator_chain.invoke({\"query\" : state[\"question\"], \"context\" : state[\"context\"]})\n",
        "  return {\"response\" : response}"
      ]
    },
    {
      "cell_type": "markdown",
      "metadata": {
        "id": "_ZtriMEcJxeR"
      },
      "source": [
        "Now we can start defining our graph!\n",
        "\n",
        "Think of the graph's state as a blank canvas that we can add nodes and edges to.\n",
        "\n",
        "Every graph starts with two special nodes - START and END - the act as the entry and exit point to the other nodes in the graphs.  \n",
        "\n",
        "All valid graphs must start at the START node and end at the END node."
      ]
    },
    {
      "cell_type": "code",
      "execution_count": 27,
      "metadata": {
        "id": "ia9IWM9AJ4bx"
      },
      "outputs": [],
      "source": [
        "# Start with the blank canvas\n",
        "graph_builder = StateGraph(State)"
      ]
    },
    {
      "cell_type": "markdown",
      "metadata": {
        "id": "8kro8bQEL2Yj"
      },
      "source": [
        "Now we can add a sequence to our \"canvas\" (graph) - this can be done by providing a list of nodes, the will automatically have edges that connect the i-th element to the i+1-th element in the list. The final element will be added to the END node unless otherwise specified."
      ]
    },
    {
      "cell_type": "code",
      "execution_count": 28,
      "metadata": {
        "id": "OSfDMlXUL2kh"
      },
      "outputs": [],
      "source": [
        "graph_builder = graph_builder.add_sequence([retrieve, generate])\n",
        "\n",
        "# graph_builder.add_node(\"retrieve\", retrieve)\n",
        "# graph_builder.add_node(\"generate\", generate)\n",
        "\n",
        "# graph_builder.add_edge(START, \"retrieve\")\n",
        "# graph_builder.add_edge(\"retrieve\", \"generate\")\n"
      ]
    },
    {
      "cell_type": "markdown",
      "metadata": {
        "id": "g79NZf5VL4en"
      },
      "source": [
        "Next, let's connect our START node to our `retrieve` node by adding an edge."
      ]
    },
    {
      "cell_type": "code",
      "execution_count": 29,
      "metadata": {
        "id": "w1kTJKGNL4qA"
      },
      "outputs": [
        {
          "data": {
            "text/plain": [
              "<langgraph.graph.state.StateGraph at 0x126634680>"
            ]
          },
          "execution_count": 29,
          "metadata": {},
          "output_type": "execute_result"
        }
      ],
      "source": [
        "graph_builder.add_edge(START, \"retrieve\")"
      ]
    },
    {
      "cell_type": "markdown",
      "metadata": {
        "id": "5EiVyt8-L6_5"
      },
      "source": [
        "Finally we can compile our graph! This will do basic verification to ensure that the Runnables have the correct inputs/outputs and can be matched."
      ]
    },
    {
      "cell_type": "code",
      "execution_count": 30,
      "metadata": {
        "id": "TM4My6geL7FW"
      },
      "outputs": [],
      "source": [
        "graph = graph_builder.compile()"
      ]
    },
    {
      "cell_type": "markdown",
      "metadata": {
        "id": "fNvoQcfCP3xI"
      },
      "source": [
        "Finally, we can visualize our graph!"
      ]
    },
    {
      "cell_type": "code",
      "execution_count": 33,
      "metadata": {},
      "outputs": [
        {
          "data": {
            "image/png": "[encoded data removed]",
            "text/plain": [
              "<IPython.core.display.Image object>"
            ]
          },
          "metadata": {},
          "output_type": "display_data"
        }
      ],
      "source": [
        "#graph\n",
        "from langchain_core.runnables.graph import MermaidDrawMethod\n",
        "from IPython.display import Markdown, display, Image\n",
        "\n",
        "data=graph.get_graph().draw_mermaid_png(draw_method=MermaidDrawMethod.PYPPETEER)\n",
        "display(Image(data))"
      ]
    },
    {
      "cell_type": "markdown",
      "metadata": {
        "id": "sBRCjvvyP8DA"
      },
      "source": [
        "Let's take it for a spin!\n",
        "\n",
        "We invoke our graph like we do any other Runnable in LCEL!\n",
        "\n",
        "> NOTE: That's right, even a compiled graph is a Runnable!"
      ]
    },
    {
      "cell_type": "code",
      "execution_count": 34,
      "metadata": {
        "colab": {
          "base_uri": "https://localhost:8080/",
          "height": 105
        },
        "id": "mSbsRLurKOKd",
        "outputId": "114185f3-4b98-4c66-96cd-65f4e4e3ef1d"
      },
      "outputs": [
        {
          "data": {
            "text/markdown": [
              "<think>\n",
              "Okay, the user is asking about the most common ways people use AI in their work, and they want me to use the provided context to answer. Let me look through the documents given.\n",
              "\n",
              "First, looking at the page 30 content: it mentions Panel A. Work Related, Panel B1. Asking, B2. Doing, B3. Expressing. So these panels might categorize different uses. Then on page 34, there's Panel A. Work Related again, and Panel B1. Asking, B2. Doing. Maybe these panels are part of a figure or table discussing different categories of AI use.\n",
              "\n",
              "On page 53, there's an example of users rewriting emails, complaining about family, or asking for help with technical issues. These examples might fall under the categories mentioned in the panels. The mention of \"IWA classifications\" with two annotators could relate to categorizing these uses.\n",
              "\n",
              "Page 37 talks about knowledge-intensive jobs where productivity increases with decision-making quality. That suggests AI is used to enhance decision-making in such roles. Page 39 references a study about underreporting AI use due to social desirability bias, but that's more about reporting than usage patterns.\n",
              "\n",
              "Putting this together, the common ways might be: 1. Asking for help (like technical issues), 2. Doing tasks (like rewriting emails), 3. Expressing ideas (maybe through communication), and 4. Enhancing decision-making in knowledge work. The panels B1, B2, B3 under Work Related likely cover these areas. The examples on page 53 support these categories. So the answer should list these categories based on the panels and examples provided.\n",
              "</think>\n",
              "\n",
              "Based on the provided context, the most common ways people use AI in their work, as indicated in the document, include:\n",
              "\n",
              "1. **Asking for assistance**: For example, users seek help with technical issues like fixing Python/Databricks errors or rewriting emails to communicate more effectively.  \n",
              "2. **Performing tasks**: Activities such as rewriting emails, troubleshooting, or handling specific work-related queries (e.g., complaints or clarifications).  \n",
              "3. **Enhancing decision-making**: AI is used in knowledge-intensive jobs to improve the quality of decisions and boost productivity.  \n",
              "4. **Expressing ideas**: This may involve refining communication, such as making interactions with others (e.g., neighbors, family members) more friendly or effective.  \n",
              "\n",
              "These categories are grouped under \"Work Related\" (Panel A) and subcategories like \"Asking,\" \"Doing,\" and \"Expressing\" (Panels B1–B3). The examples and classifications in the document highlight these patterns as prevalent AI usage scenarios in professional contexts."
            ],
            "text/plain": [
              "<IPython.core.display.Markdown object>"
            ]
          },
          "metadata": {},
          "output_type": "display_data"
        }
      ],
      "source": [
        "from IPython.display import Markdown, display\n",
        "response = graph.invoke({\"question\" : \"What are the most common ways people use AI in their work?\"})\n",
        "display(Markdown(response[\"response\"]))"
      ]
    },
    {
      "cell_type": "code",
      "execution_count": 35,
      "metadata": {
        "colab": {
          "base_uri": "https://localhost:8080/",
          "height": 35
        },
        "id": "a_jEmE_rKwED",
        "outputId": "c5fac807-2a24-4cf9-8cca-105def13e3d8"
      },
      "outputs": [
        {
          "data": {
            "text/markdown": [
              "<think>\n",
              "Okay, the user is asking if people use AI for their personal lives. Let me check the provided context to find any relevant information.\n",
              "\n",
              "Looking through the documents, there's a mention of \"Panel B1. Asking.\" and \"Panel B2. Doing.\" on page 30. Then on page 34, there's a reference to \"Panel B3. Expressing.\" These panels might be categories of how people use AI. \n",
              "\n",
              "On page 53, there's an example where users are using AI for personal tasks like rewriting emails to neighbors about plumbing, complaining about family issues, or asking for help with technical problems. These examples clearly indicate personal use cases. \n",
              "\n",
              "Additionally, the document talks about \"Interaction Quality\" in figures 30 and 31, which might relate to how AI is used in personal interactions. The mention of \"personal lives\" in the examples provided on page 53 directly supports the idea that people use AI for personal purposes. \n",
              "\n",
              "Since the context includes specific examples of personal use, the answer should confirm that people do use AI for their personal lives.\n",
              "</think>\n",
              "\n",
              "Yes, people use AI for their personal lives. The context mentions examples such as rewriting emails to neighbors, complaining about family issues, and seeking help with technical problems like fixing Python databricks errors. These instances illustrate AI being used in personal contexts, such as communication, problem-solving, and daily tasks."
            ],
            "text/plain": [
              "<IPython.core.display.Markdown object>"
            ]
          },
          "metadata": {},
          "output_type": "display_data"
        }
      ],
      "source": [
        "response = graph.invoke({\"question\" : \"Do people use AI for their personal lives?\"})\n",
        "display(Markdown(response[\"response\"]))"
      ]
    },
    {
      "cell_type": "code",
      "execution_count": 36,
      "metadata": {},
      "outputs": [
        {
          "data": {
            "text/markdown": [
              "<think>\n",
              "Okay, let's tackle this query: \"What concerns or challenges do people have when using AI?\" The user wants me to use the provided context to answer, and if it's not there, say \"I don't know.\"\n",
              "\n",
              "First, I need to look through the given documents. Let me go through each one's page_content.\n",
              "\n",
              "The first document mentions Panels A, B1, B2, and Figure 23, but it's on page 34. Not sure if that's relevant. The second document on page 30 has similar panels but also mentions Panel B3. Maybe these are sections of a report discussing AI usage, but they don't directly mention concerns or challenges.\n",
              "\n",
              "The third document on page 39 has a citation about a paper titled \"Underreporting of AI use: The role of social desirability bias.\" That sounds relevant. Social desirability bias could be a concern where people might not report their AI use truthfully because they think it's socially undesirable. That's a challenge in data collection.\n",
              "\n",
              "Another document on page 37 talks about knowledge-intensive jobs and productivity increasing with decision-making quality. This might relate to challenges in integrating AI into work, but it's more about benefits than concerns.\n",
              "\n",
              "The document on page 53 has examples of users rewriting emails, complaining about family, or asking for technical help. These examples might show how people use AI, but again, not directly addressing concerns or challenges. However, the mention of IWA classifications by annotators could relate to data annotation challenges, but that's a stretch.\n",
              "\n",
              "Putting it together, the only direct mention of a concern is the social desirability bias from the paper cited on page 39. The other documents don't discuss specific concerns or challenges. So the answer should focus on that underreporting due to social desirability bias. I need to check if there's anything else, but I don't see other mentions of challenges. So the answer is about that bias, and maybe mention that other parts discuss usage scenarios but not specific concerns.\n",
              "</think>\n",
              "\n",
              "The provided context mentions a study titled *\"Underreporting of AI use: The role of social desirability bias\"* (cited on page 39), which highlights that people may underreport their AI usage due to social desirability bias. This suggests a challenge related to **social desirability bias** as a concern when using AI, where individuals might refrain from disclosing their AI use due to perceived societal norms or stigma. \n",
              "\n",
              "Other sections of the document describe usage scenarios (e.g., work-related tasks, asking for help, or expressing personal issues) but do not explicitly address additional concerns or challenges beyond this point. \n",
              "\n",
              "**Answer:**  \n",
              "A noted concern is **social desirability bias**, where people may underreport their AI use due to societal perceptions. The context does not provide further details on other specific challenges."
            ],
            "text/plain": [
              "<IPython.core.display.Markdown object>"
            ]
          },
          "metadata": {},
          "output_type": "display_data"
        }
      ],
      "source": [
        "response = graph.invoke({\"question\" : \"What concerns or challenges do people have when using AI?\"})\n",
        "display(Markdown(response[\"response\"]))"
      ]
    },
    {
      "cell_type": "code",
      "execution_count": 37,
      "metadata": {},
      "outputs": [
        {
          "data": {
            "text/markdown": [
              "<think>\n",
              "Okay, let's see. The user is asking, \"Who is Batman?\" I need to check the provided context to see if there's any information about Batman.\n",
              "\n",
              "Looking through the documents, they all seem to be related to a study or report about how people use ChatGPT. The pages mention things like work-related panels, asking, doing, expressing, and some figures about interaction quality and bias. There's also mention of LaTeX, PDF metadata, and some examples of user queries like rewriting emails or fixing Python errors. \n",
              "\n",
              "But wait, none of the page contents mention Batman. The documents are focused on AI usage, user interactions, and data analysis. There's no reference to fictional characters, superheroes, or any content related to Batman. The examples given are all about real-world tasks and technical issues. \n",
              "\n",
              "Since the context doesn't include any information about Batman, the correct response would be that I don't know. The user's query is outside the scope of the provided documents.\n",
              "</think>\n",
              "\n",
              "I don't know"
            ],
            "text/plain": [
              "<IPython.core.display.Markdown object>"
            ]
          },
          "metadata": {},
          "output_type": "display_data"
        }
      ],
      "source": [
        "response = graph.invoke({\"question\" : \"Who is Batman?\"})\n",
        "display(Markdown(response[\"response\"]))"
      ]
    },
    {
      "cell_type": "markdown",
      "metadata": {
        "id": "E_LRYXvvRjOp"
      },
      "source": [
        "#### ❓ Question #2:\n",
        "LangGraph's graph-based approach lets us visualize and manage complex flows naturally. How could we extend our current implementation to handle edge cases? For example:\n",
        "- What if the retriever finds no relevant context?  \n",
        "- What if the response needs fact-checking?\n",
        "Consider how you would modify the graph to handle these scenarios.\n",
        "\n",
        "##### ✅ Answers\n",
        "2.1 #See below\n",
        "\n",
        "2.2 #See below"
      ]
    },
    {
      "cell_type": "markdown",
      "metadata": {},
      "source": [
        "## 🎯 Answer 2.1: Handling no-context scenarios using conditional edges \n",
        "\n",
        "Let's implement a simple and efficient approach to handle cases when no relevant context is found using:\n",
        "1. **LangGraph's conditional edges** for routing based on context availability\n",
        "2. **Fallback response generation** when no context passes the threshold\n",
        "3. **Qdrant's `score_threshold`** parameter for automatic relevance filtering \n",
        "\n",
        "This approach uses the existing embedding, chat, and vector store definitions from above.\n"
      ]
    },
    {
      "cell_type": "code",
      "execution_count": 76,
      "metadata": {},
      "outputs": [],
      "source": [
        "# Enhanced State that includes context availability tracking\n",
        "class EnhancedState(TypedDict):\n",
        "    \"\"\"State that tracks whether relevant context was found.\"\"\"\n",
        "    question: str\n",
        "    context: list[Document]\n",
        "    response: str\n",
        "    has_relevant_context: bool  \n",
        "    score_threshold: float\n"
      ]
    },
    {
      "cell_type": "code",
      "execution_count": 77,
      "metadata": {},
      "outputs": [],
      "source": [
        "# Enhanced nodes for the conditional graph\n",
        "def enhanced_retrieve(state: EnhancedState) -> dict:\n",
        "    \"\"\"\n",
        "    Retrieve documents using score threshold and determine if context is relevant.\n",
        "    \"\"\"\n",
        "    question = state[\"question\"]\n",
        "    \n",
        "\n",
        "    # Use vector_store.similarity_search_with_score() - gets docs WITH scores!\n",
        "    docs_with_scores = vector_store.similarity_search_with_score(\n",
        "        query=question,\n",
        "        k=5,\n",
        "        score_threshold=state[\"score_threshold\"]  # Apply threshold manually\n",
        "    )\n",
        "    \n",
        "    for doc, score in docs_with_scores:\n",
        "        print(f\"📄 Score: {score:.4f} | Content: {doc.page_content[:80]}...\")\n",
        " \n",
        "    \n",
        "    has_context = len(docs_with_scores) > 0\n",
        "    print(f\"✅ {len(docs_with_scores)} documents above threshold {state['score_threshold']}\")\n",
        "    \n",
        "    # Return partial state update - LangGraph will merge with existing state\n",
        "    return {\n",
        "        \"context\": [doc for doc, _ in docs_with_scores],\n",
        "        \"has_relevant_context\": has_context\n",
        "    }\n",
        "\n",
        "def generate_with_context(state: EnhancedState) -> dict:\n",
        "    \"\"\"Generate response using retrieved context.\"\"\"\n",
        "    \n",
        "    # Format context for the prompt\n",
        "    context_text = \"\\n\\n\".join([doc.page_content for doc in state[\"context\"]])\n",
        "\n",
        "    generator_chain = chat_prompt | ollama_chat_model | StrOutputParser()\n",
        "    \n",
        "    response = generator_chain.invoke({\n",
        "        \"query\": state[\"question\"],\n",
        "        \"context\": context_text\n",
        "    })\n",
        "    \n",
        "    print(f\"✅ Generated response using {len(state['context'])} context documents\")\n",
        "    \n",
        "    # Return partial state update\n",
        "    return {\"response\": response}\n",
        "\n",
        "def generate_fallback(state: EnhancedState) -> dict:\n",
        "    \"\"\"Generate fallback response when no relevant context is found.\"\"\"\n",
        "    question = state[\"question\"]\n",
        "    \n",
        "    # Create fallback prompt\n",
        "    fallback_prompt = ChatPromptTemplate.from_messages([\n",
        "        (\"human\", \"\"\"\n",
        "        The user asked: \"{question}\"\n",
        "        \n",
        "        I don't have specific information about this topic in my knowledge base about how people use AI.\n",
        "        Please provide a polite response explaining that you don't have information about this specific topic\n",
        "        and suggest the user ask about topics related to \"How People Use AI\" since that's what the knowledge base contains.\n",
        "        \n",
        "        Keep the response helpful and concise.\n",
        "        \"\"\")\n",
        "    ])\n",
        "    \n",
        "    fallback_chain = fallback_prompt | ollama_chat_model | StrOutputParser()\n",
        "    response = fallback_chain.invoke({\"question\": question})\n",
        "    \n",
        "    print(\"🔄 Generated fallback response (no relevant context found)\")\n",
        "    \n",
        "    # Return partial state update\n",
        "    return {\"response\": response}\n"
      ]
    },
    {
      "cell_type": "code",
      "execution_count": null,
      "metadata": {},
      "outputs": [],
      "source": [
        "# Conditional edge function - this is the key to routing!\n",
        "def route_based_on_context(state: EnhancedState) -> str:\n",
        "    \"\"\"\n",
        "    Conditional edge function that routes based on context availability. This will NOT update the state.\n",
        "    \n",
        "    Args:\n",
        "        state: Current state\n",
        "        \n",
        "    Returns:\n",
        "        Next node name based on whether context was found\n",
        "    \"\"\"\n",
        "    if state[\"has_relevant_context\"]:\n",
        "        print(\"🎯 Routing to: generate_with_context node\")\n",
        "        return \"generate_with_context\"\n",
        "    else:\n",
        "        print(\"🔄 Routing to: generate_fallback node\")\n",
        "        return \"generate_fallback\"\n"
      ]
    },
    {
      "cell_type": "code",
      "execution_count": 83,
      "metadata": {},
      "outputs": [
        {
          "name": "stdout",
          "output_type": "stream",
          "text": [
            "✅ Enhanced graph built successfully!\n",
            "📋 Graph structure:\n",
            "   START → enhanced_retrieve → [conditional routing] → (generate_with_context OR generate_fallback) → END\n"
          ]
        }
      ],
      "source": [
        "# Import END node\n",
        "from langgraph.graph import END\n",
        "\n",
        "# Build the enhanced graph with conditional edges\n",
        "enhanced_graph_builder = StateGraph(EnhancedState)\n",
        "\n",
        "# Add nodes\n",
        "enhanced_graph_builder.add_node(\"enhanced_retrieve\", enhanced_retrieve)\n",
        "enhanced_graph_builder.add_node(\"generate_with_context\", generate_with_context)\n",
        "enhanced_graph_builder.add_node(\"generate_fallback\", generate_fallback)\n",
        "\n",
        "# Add edges\n",
        "enhanced_graph_builder.add_edge(START, \"enhanced_retrieve\")\n",
        "\n",
        "# Add conditional edge - this is the key feature!\n",
        "enhanced_graph_builder.add_conditional_edges(\n",
        "    \"enhanced_retrieve\",  # From node\n",
        "    route_based_on_context,  \n",
        "    {\n",
        "        \"generate_with_context\": \"generate_with_context\",\n",
        "        \"generate_fallback\": \"generate_fallback\"\n",
        "    }\n",
        ")\n",
        "\n",
        "# Both generation nodes lead to END (not needed but explicitly added)\n",
        "enhanced_graph_builder.add_edge(\"generate_with_context\", END)\n",
        "enhanced_graph_builder.add_edge(\"generate_fallback\", END)\n",
        "\n",
        "# Compile the graph\n",
        "enhanced_graph = enhanced_graph_builder.compile()\n",
        "\n",
        "print(\"✅ Enhanced graph built successfully!\")\n",
        "print(\"📋 Graph structure:\")\n",
        "print(\"   START → enhanced_retrieve → [conditional routing] → (generate_with_context OR generate_fallback) → END\")\n"
      ]
    },
    {
      "cell_type": "code",
      "execution_count": 84,
      "metadata": {},
      "outputs": [
        {
          "name": "stdout",
          "output_type": "stream",
          "text": [
            "🎨 Enhanced RAG Graph with Conditional Edges:\n",
            "This graph automatically routes based on whether relevant context is found\n"
          ]
        },
        {
          "data": {
            "image/png": "[encoded data removed]",
            "text/plain": [
              "<IPython.core.display.Image object>"
            ]
          },
          "metadata": {},
          "output_type": "display_data"
        }
      ],
      "source": [
        "# Visualize the enhanced graph\n",
        "print(\"🎨 Enhanced RAG Graph with Conditional Edges:\")\n",
        "print(\"This graph automatically routes based on whether relevant context is found\")\n",
        "graph_data = enhanced_graph.get_graph().draw_mermaid_png(draw_method=MermaidDrawMethod.PYPPETEER)\n",
        "display(Image(graph_data))\n",
        "\n"
      ]
    },
    {
      "cell_type": "markdown",
      "metadata": {},
      "source": [
        "#### 🧪 Test Examples: Demonstrating the Enhanced RAG System\n",
        "\n",
        "Let's test our enhanced system with different scenarios to show how it handles both relevant and irrelevant queries.\n"
      ]
    },
    {
      "cell_type": "code",
      "execution_count": 152,
      "metadata": {},
      "outputs": [
        {
          "name": "stdout",
          "output_type": "stream",
          "text": [
            "============================================================\n",
            "🧪 TEST CASE 1: Question with Expected Relevant Context\n",
            "============================================================\n",
            "Question: How do people use ChatGPT in their work?\n",
            "Expected: Should find relevant context and generate response\n",
            "\n",
            "📄 Score: 0.6555 | Content: Panel A. Work Related\n",
            "Panel B1. Asking.\n",
            "Panel B2. Doing.\n",
            "Figure 23: (continued o...\n",
            "📄 Score: 0.6555 | Content: Panel A. Work Related\n",
            "Panel B1. Asking.\n",
            "Panel B2. Doing.\n",
            "Figure 23: (continued o...\n",
            "📄 Score: 0.6421 | Content: Panel A. Work Related\n",
            "Panel B1. Asking.\n",
            "Panel B2. Doing.\n",
            "Panel B3. Expressing.\n",
            "F...\n",
            "📄 Score: 0.6421 | Content: Panel A. Work Related\n",
            "Panel B1. Asking.\n",
            "Panel B2. Doing.\n",
            "Panel B3. Expressing.\n",
            "F...\n",
            "📄 Score: 0.6226 | Content: E.g. 'User is rewriting email to neighbors about\n",
            "plumbing to be more friendly,'\n",
            "...\n",
            "✅ 5 documents above threshold 0.5\n",
            "🎯 Routing to: generate_with_context node\n",
            "✅ Generated response using 5 context documents\n",
            "✅ Context Found: True\n",
            "📄 Number of Context Documents: 5\n",
            "💬 Response: <think>\n",
            "Okay, let me try to figure out how to answer the user's query using the provided context. The user is asking, \"How do people use ChatGPT in their work?\" and they want me to use only the given context.\n",
            "\n",
            "Looking at the context, there are several mentions of panels and figures, like Panel A. Work Related, and Panels B1 to B3. The context also includes some examples like rewriting emails to neighbors about plumbing, complaining about a grandmother, or asking for help with a Python Databricks error. There's a mention of IWA classifications done by two annotators, and other classifications by three. \n",
            "\n",
            "Wait, the examples given in the context seem to be examples of different tasks or scenarios. The first example is about rewriting an email to be friendlier, which might relate to communication or email writing. The second is complaining about a grandmother, which could be personal but maybe related to work if it's about family issues affecting work. The third is a technical problem with Python Databricks, which might be related to coding or technical support. \n",
            "\n",
            "The panels mentioned (A, B1, B2, B3) might categorize different uses of ChatGPT. Panel A is Work Related, so that's likely about using ChatGPT for work tasks. Panels B1 to B3 might be subcategories like Asking, Doing, Expressing. The examples provided could be under these categories. For instance, asking for help with a Python error would fall under B1 (Asking), doing something like fixing the error would be B2 (Doing), and expressing might be about communication tasks like rewriting emails. \n",
            "\n",
            "But the user's question is about how people use ChatGPT in their work. The context mentions that the IWA classifications were done by two annotators, and other classifications by three. However, the main examples given are about email rewriting, complaining, and technical help. These examples could be instances where people use ChatGPT for work-related tasks such as improving communication, solving technical issues, or managing personal issues that affect work. \n",
            "\n",
            "But the context doesn't explicitly state that these examples are uses of ChatGPT. The examples are listed as possible scenarios, but it's unclear if they are examples of ChatGPT usage. The user might be referring to the examples provided in the context as examples of how people use ChatGPT. However, the exact connection isn't clear. The context mentions \"User is rewriting email...\" which could imply that the user is using ChatGPT for that task. Similarly, the other examples might be tasks where ChatGPT is used. \n",
            "\n",
            "So, putting it together, the answer would involve the examples given in the context, such as using ChatGPT to rewrite emails for friendliness, ask for help with technical errors, or express complaints. These are work-related tasks where ChatGPT is used for communication, problem-solving, or managing personal issues that impact work. The panels (A and B1-B3) categorize these uses under work-related activities, asking for help, doing tasks, and expressing. \n",
            "\n",
            "However, the context doesn't explicitly mention ChatGPT, so I need to be careful. The examples might be examples of tasks people do, but the user is asking about how they use ChatGPT. Since the context doesn't directly state that these examples are ChatGPT uses, I might need to infer based on the structure. The mention of \"User is rewriting email...\" could be part of the IWA classifications, which were done by annotators. Maybe the IWA classifications are about how people use ChatGPT in work contexts. \n",
            "\n",
            "But without explicit mention of ChatGPT in the context, the answer might be that the context doesn't provide enough information. However, the user provided the context, and the examples might be the uses. Since the user is asking how people use ChatGPT in work, and the context includes examples of tasks like rewriting emails, asking for help, and expressing complaints, which are work-related, it's possible that these are ways people use ChatGPT. \n",
            "\n",
            "Therefore, the answer would list these examples as uses of ChatGPT in work, such as improving communication, solving technical issues, or managing personal matters affecting work. The panels categorize these under work-related and subcategories like asking, doing, expressing. So the answer would be based on those examples and the categorization.\n",
            "</think>\n",
            "\n",
            "The provided context mentions work-related tasks and examples of how people might use tools like ChatGPT in their work. For instance, it references scenarios such as:  \n",
            "- Rewriting emails to neighbors about plumbing to be more friendly (improving communication).  \n",
            "- Complaining about a grandmother (managing personal issues affecting work).  \n",
            "- Asking for help fixing a Python Databricks error (technical problem-solving).  \n",
            "\n",
            "These examples align with categories like \"Work Related,\" \"Asking,\" \"Doing,\" and \"Expressing,\" suggesting that ChatGPT could be used for tasks involving communication, technical assistance, and personal/work-life balance. However, the context does not explicitly state that these examples involve ChatGPT.  \n",
            "\n",
            "**Answer:**  \n",
            "The context implies that people use tools (like ChatGPT) in work settings for tasks such as improving communication (e.g., rewriting emails), solving technical problems (e.g., fixing Python errors), and managing personal/work-related issues (e.g., complaints). These activities fall under \"Work Related\" and subcategories like \"Asking,\" \"Doing,\" and \"Expressing.\" However, the specific mention of ChatGPT is not directly stated in the provided context.  \n",
            "\n",
            "**Final Answer:**  \n",
            "I don't know.  \n",
            "*(The context does not explicitly mention ChatGPT or its usage, only examples of work-related tasks and categorizations.)*\n",
            "\n"
          ]
        }
      ],
      "source": [
        "# Test Case 1: Question likely to find relevant context\n",
        "print(\"=\"*60)\n",
        "print(\"🧪 TEST CASE 1: Question with Expected Relevant Context\")\n",
        "print(\"=\"*60)\n",
        "\n",
        "question = \"How do people use ChatGPT in their work?\"\n",
        "print(f\"Question: {question}\")\n",
        "print(\"Expected: Should find relevant context and generate response\\n\")\n",
        "\n",
        "result1 = enhanced_graph.invoke({\n",
        "    \"question\": question,\n",
        "    \"score_threshold\": 0.5,\n",
        "})\n",
        "\n",
        "print(f\"✅ Context Found: {result1['has_relevant_context']}\")\n",
        "print(f\"📄 Number of Context Documents: {len(result1['context'])}\")\n",
        "print(f\"💬 Response: {result1['response']}\")\n",
        "print()\n"
      ]
    },
    {
      "cell_type": "code",
      "execution_count": null,
      "metadata": {},
      "outputs": [
        {
          "name": "stdout",
          "output_type": "stream",
          "text": [
            "============================================================\n",
            "🧪 TEST CASE 2: Question with No Expected Relevant Context\n",
            "============================================================\n",
            "Question: 'What is the weather like today?'\n",
            "Expected: Should NOT find relevant context and use fallback\n",
            "\n",
            "✅ 0 documents above threshold 0.7\n",
            "🔄 Routing to: generate_fallback node\n",
            "🔄 Generated fallback response (no relevant context found)\n",
            "❌ Context Found: False\n",
            "📄 Number of Context Documents: 0\n",
            "🔄 Fallback Response: <think>\n",
            "Okay, the user asked for the ingredients of chocolate cake, but I don't have that info in my knowledge base. I need to politely explain that and redirect them to topics related to \"How People Use AI.\" Let me make sure the response is helpful and concise. Maybe start by acknowledging their question, state that I can't provide the recipe, and then suggest they ask about AI usage topics. Keep it friendly and clear.\n",
            "</think>\n",
            "\n",
            "I don’t have specific information about chocolate cake ingredients, as my knowledge base focuses on topics related to *how people use AI*. Let me know if you’d like to explore those! 😊\n"
          ]
        }
      ],
      "source": [
        "# Test Case 2: Question unlikely to find relevant context\n",
        "print(\"=\"*60)\n",
        "print(\"🧪 TEST CASE 2: Question with No Expected Relevant Context\")\n",
        "print(\"=\"*60)\n",
        "\n",
        "\n",
        "question = \"What are the ingredients for chocolate cake?\"\n",
        "\n",
        "print(f\"Question: {question}\")\n",
        "print(\"Expected: Should NOT find relevant context and use fallback\\n\")\n",
        "\n",
        "\n",
        "result2 = enhanced_graph.invoke(\n",
        "    {\n",
        "        \"question\": question,\n",
        "        \"score_threshold\": 0.7,\n",
        "    }\n",
        ")\n",
        "\n",
        "print(f\"❌ Context Found: {result2['has_relevant_context']}\")\n",
        "print(f\"📄 Number of Context Documents: {len(result2['context'])}\")\n",
        "print(f\"🔄 Fallback Response: {result2['response']}\")\n"
      ]
    },
    {
      "cell_type": "markdown",
      "metadata": {},
      "source": [
        "### 📝 Summary for Answer 2.1: Enhanced RAG with Conditional Edges\n",
        "\n",
        "### ✅ What I Implemented\n",
        "\n",
        "1. **Score Threshold Filtering**: Used Qdrant's `score_threshold` parameter to automatically filter irrelevant documents\n",
        "2. **Enhanced State**: Added `has_relevant_context` field to track context availability\n",
        "3. **Conditional Routing**: Implemented LangGraph conditional edges to route based on context availability\n",
        "4. **Fallback Strategy**: Created a dedicated fallback response when no relevant context is found\n",
        "\n",
        "### 🔑 Key Benefits\n",
        "\n",
        "- **Automatic Quality Control**: Score threshold ensures only relevant context is used\n",
        "- **Graceful Degradation**: System provides helpful fallback responses instead of hallucinating\n",
        "- **Simple Architecture**: Uses existing components with minimal additional complexity\n",
        "- **Configurable**: Easy to adjust threshold based on use case requirements\n",
        "\n",
        "### 🎯 When to Use This Approach\n",
        "\n",
        "- **Production RAG Systems**: When you need reliable quality control\n",
        "- **Domain-Specific Applications**: When irrelevant context could mislead users\n",
        "- **Customer-Facing Systems**: When user experience requires consistent, honest responses\n",
        "\n",
        "### 🔧 Customization Options\n",
        "\n",
        "- Adjust `score_threshold` (0.0-1.0) based on precision/recall needs\n",
        "- Modify fallback prompt to match your application's tone\n",
        "- Add additional routing conditions (e.g., confidence scores, document count)\n",
        "- Implement retry logic with different parameters\n",
        "\n",
        "This approach provides a simple yet effective solution for handling the \"no relevant context\" scenario in RAG systems!\n"
      ]
    },
    {
      "cell_type": "markdown",
      "metadata": {},
      "source": [
        "## 🎯 Answer 2.2: Simple fact-checking strategy along with enhancements in 2.1 \n",
        "\n",
        "We'll implement a straightforward approach that checks if responses need verification based on simple criteria:\n",
        "\n",
        "1. **Check for uncertainty words** - \"might\", \"could\", \"possibly\", etc.\n",
        "2. **Detect unsupported claims** - statements not clearly backed by context\n",
        "3. **Route based on confidence** - send uncertain responses for improvement\n"
      ]
    },
    {
      "cell_type": "markdown",
      "metadata": {},
      "source": [
        "### 🎯 Structured Flow: Context First, Then Fact-Check\n",
        "\n",
        "Let's create a cleaner implementation with **two separate conditional routing points**:\n",
        "\n",
        "1. **Context Check**: Route to fallback if no context, otherwise continue to generation\n",
        "2. **Fact-Check**: Route to improvement if uncertain, otherwise pass through\n",
        "\n",
        "This creates a clear decision tree structure:\n",
        "\n",
        "```\n",
        "retrieve → [has context?] → generate → [needs fact-check?] → final_response\n",
        "              ↓ (no)                      ↓ (yes)\n",
        "           fallback                   improve_response\n",
        "              ↓                           ↓\n",
        "             END                         END\n",
        "```\n"
      ]
    },
    {
      "cell_type": "code",
      "execution_count": 142,
      "metadata": {},
      "outputs": [],
      "source": [
        "# Structured Flow State\n",
        "class StructuredFlowState(TypedDict):\n",
        "    question: str\n",
        "    context: list[Document]\n",
        "    response: str\n",
        "    has_relevant_context: bool\n",
        "    score_threshold: float\n",
        "    needs_fact_check: bool\n",
        "    final_response: str"
      ]
    },
    {
      "cell_type": "code",
      "execution_count": 156,
      "metadata": {},
      "outputs": [],
      "source": [
        "# Simple fact-checking functions (redefine for this cell)\n",
        "def simple_fact_check_needed(response: str) -> bool:\n",
        "    \"\"\"Simple heuristic to determine if a response needs fact-checking.\"\"\"\n",
        "    uncertainty_words = [\n",
        "        'might', 'could', 'possibly', 'perhaps', 'maybe', \n",
        "        'seems', 'appears', 'likely', 'probably', 'unclear',\n",
        "        'unsure', 'uncertain', 'not entirely sure'\n",
        "    ]\n",
        "    \n",
        "    response_lower = response.lower()\n",
        "    has_uncertainty = any(word in response_lower for word in uncertainty_words)\n",
        "    has_dont_know = any(phrase in response_lower for phrase in ['don\\'t know', 'not sure', 'cannot say'])\n",
        "    \n",
        "    return has_uncertainty and not has_dont_know\n",
        "\n",
        "\n",
        "def structured_retrieve(state: StructuredFlowState) -> dict:\n",
        "    \"\"\"Step 1: Retrieve documents with enhanced logging.\"\"\"\n",
        "    question = state[\"question\"]\n",
        "    \n",
        "    docs_with_scores = vector_store.similarity_search_with_score(\n",
        "        query=question,\n",
        "        k=10,\n",
        "        score_threshold=state[\"score_threshold\"]\n",
        "    )\n",
        "    \n",
        "    for doc, score in docs_with_scores:\n",
        "        print(f\"📄 Score: {score:.4f} | Content: {doc.page_content[:80]}...\")\n",
        "    \n",
        "    has_context = len(docs_with_scores) > 0\n",
        "    print(f\"✅ {len(docs_with_scores)} documents above threshold {state['score_threshold']}\")\n",
        "    \n",
        "    return {\n",
        "        \"context\": [doc for doc, _ in docs_with_scores],\n",
        "        \"has_relevant_context\": has_context\n",
        "    }\n",
        "\n",
        "\n",
        "def structured_generate_fallback(state: StructuredFlowState) -> dict:\n",
        "    \"\"\"Step 2 Alternative: Generate fallback when no context.\"\"\"\n",
        "    fallback_prompt = ChatPromptTemplate.from_messages([\n",
        "        (\"human\", \"\"\"\n",
        "        The user asked: \"{question}\"\n",
        "        \n",
        "        I don't have specific information about this topic in my knowledge base about how people use AI.\n",
        "        Please provide a polite response explaining that you don't have information about this specific topic\n",
        "        and suggest the user ask about topics related to \"How People Use AI\".\n",
        "        \"\"\")\n",
        "    ])\n",
        "    \n",
        "    fallback_chain = fallback_prompt | ollama_chat_model | StrOutputParser()\n",
        "    response = fallback_chain.invoke({\"question\": state[\"question\"]})\n",
        "    \n",
        "    print(\"🔄 Generated fallback response (no relevant context found)\")\n",
        "    \n",
        "    return {\n",
        "        \"response\": response,\n",
        "        \"needs_fact_check\": False,  # Fallback doesn't need fact-checking\n",
        "        \"final_response\": response  # Set final response directly\n",
        "    }\n",
        "\n",
        "def structured_generate_with_context(state: StructuredFlowState) -> dict:\n",
        "    \"\"\"Step 2: Generate response using context and check if fact-checking needed.\"\"\"\n",
        "    context_text = \"\\n\\n\".join([doc.page_content for doc in state[\"context\"]])\n",
        "    \n",
        "    generator_chain = chat_prompt | ollama_chat_model | StrOutputParser()\n",
        "    response = generator_chain.invoke({\n",
        "        \"query\": state[\"question\"],\n",
        "        \"context\": context_text\n",
        "    })\n",
        "    \n",
        "    # Check if fact-checking is needed\n",
        "    needs_check = simple_fact_check_needed(response)\n",
        "    \n",
        "    print(f\"✅ Generated response using {len(state['context'])} context documents\")\n",
        "    print(f\"🔍 Needs fact-checking: {needs_check}\")\n",
        "    \n",
        "    return {\n",
        "        \"response\": response,\n",
        "        \"needs_fact_check\": needs_check\n",
        "    }"
      ]
    },
    {
      "cell_type": "code",
      "execution_count": null,
      "metadata": {},
      "outputs": [],
      "source": [
        "def structured_improve_response(state: StructuredFlowState) -> dict:\n",
        "    \"\"\"Step 3a: Improve response that needs fact-checking.\"\"\"\n",
        "    \"\"\"Simple response improvement that adds confidence qualifiers.\"\"\"\n",
        "    \n",
        "    response = state[\"response\"]\n",
        "    improve_prompt = ChatPromptTemplate.from_messages([\n",
        "        (\"human\", \"\"\"\n",
        "        Original response: {response}\n",
        "        \n",
        "        This response was flagged as potentially needing fact-checking.\n",
        "        Please improve it by adding appropriate confidence qualifiers where needed\n",
        "        and being more explicit about what the source material says.\n",
        "        \n",
        "        Improved response:\n",
        "        \"\"\")\n",
        "    ])\n",
        "    \n",
        "    improve_chain = improve_prompt | ollama_chat_model | StrOutputParser()\n",
        "    \n",
        "    print(\"🔧 Improved response with fact-checking\")\n",
        "    return {\"final_response\": improve_chain.invoke({\"response\": response})}\n",
        "\n",
        "def structured_pass_through_response(state: StructuredFlowState) -> dict:\n",
        "    \"\"\"Step 3b: Pass through response that doesn't need fact-checking.\"\"\"\n",
        "    print(\"✅ Response passed fact-check - using original\")\n",
        "    return {\"final_response\": state[\"response\"]}\n",
        "\n",
        "# Conditional routing functions\n",
        "def route_context_check(state: StructuredFlowState) -> str:\n",
        "    \"\"\"First routing: Check if we have context.\"\"\"\n",
        "    if state[\"has_relevant_context\"]:\n",
        "        print(\"🎯 Context found - routing to generation\")\n",
        "        return \"generate_with_context\"\n",
        "    else:\n",
        "        print(\"❌ No context found - routing to fallback\")\n",
        "        return \"generate_fallback\"\n",
        "\n",
        "def route_fact_check(state: StructuredFlowState) -> str:\n",
        "    \"\"\"Second routing: Check if fact-checking needed.\"\"\"\n",
        "    if state[\"needs_fact_check\"]:\n",
        "        print(\"🔍 Fact-checking needed - routing to improvement\")\n",
        "        return \"improve_response\"\n",
        "    else:\n",
        "        print(\"✅ No fact-checking needed - routing to pass-through\")\n",
        "        return \"pass_through_response\"\n"
      ]
    },
    {
      "cell_type": "code",
      "execution_count": null,
      "metadata": {},
      "outputs": [
        {
          "name": "stdout",
          "output_type": "stream",
          "text": [
            "✅ Structured Flow RAG Graph built successfully!\n",
            "\n",
            "🎯 Flow Structure:\n",
            "1. retrieve → [has context?]\n",
            "   ├─ NO  → generate_fallback → END\n",
            "   └─ YES → generate_with_context → [needs fact-check?]\n",
            "                                    ├─ YES → improve_response → END\n",
            "                                    └─ NO  → pass_through_response → END\n"
          ]
        }
      ],
      "source": [
        "# Build the Structured Flow Graph with TWO conditional routing points\n",
        "structured_graph = StateGraph(StructuredFlowState)\n",
        "\n",
        "# Add all nodes\n",
        "structured_graph.add_node(\"retrieve\", structured_retrieve)\n",
        "structured_graph.add_node(\"generate_with_context\", structured_generate_with_context)\n",
        "structured_graph.add_node(\"generate_fallback\", structured_generate_fallback)\n",
        "structured_graph.add_node(\"improve_response\", structured_improve_response)\n",
        "structured_graph.add_node(\"pass_through_response\", structured_pass_through_response)\n",
        "\n",
        "# Step 1: START → retrieve\n",
        "structured_graph.add_edge(START, \"retrieve\")\n",
        "\n",
        "# Step 2: FIRST conditional routing - check for context\n",
        "structured_graph.add_conditional_edges(\n",
        "    \"retrieve\",\n",
        "    route_context_check,\n",
        "    {\n",
        "        \"generate_with_context\": \"generate_with_context\", \n",
        "        \"generate_fallback\": \"generate_fallback\"\n",
        "    }\n",
        ")\n",
        "\n",
        "# Step 3: Fallback goes straight to END (no fact-checking needed)\n",
        "structured_graph.add_edge(\"generate_fallback\", END)\n",
        "\n",
        "# Step 4: SECOND conditional routing - fact-checking for context-based responses\n",
        "structured_graph.add_conditional_edges(\n",
        "    \"generate_with_context\",\n",
        "    route_fact_check,\n",
        "    {\n",
        "        \"improve_response\": \"improve_response\",\n",
        "        \"pass_through_response\": \"pass_through_response\"\n",
        "    }\n",
        ")\n",
        "\n",
        "# Step 5: Both fact-check paths go to END\n",
        "structured_graph.add_edge(\"improve_response\", END)\n",
        "structured_graph.add_edge(\"pass_through_response\", END)\n",
        "\n",
        "# Compile the structured graph\n",
        "structured_flow_graph = structured_graph.compile()\n",
        "\n",
        "print(\"✅ Structured Flow RAG Graph built successfully!\")\n",
        "print(\"\\n🎯 Flow Structure:\")\n",
        "print(\"1. retrieve → [has context?]\")\n",
        "print(\"   ├─ NO  → generate_fallback → END\")\n",
        "print(\"   └─ YES → generate_with_context → [needs fact-check?]\")\n",
        "print(\"                                    ├─ YES → improve_response → END\")\n",
        "print(\"                                    └─ NO  → pass_through_response → END\")\n"
      ]
    },
    {
      "cell_type": "code",
      "execution_count": 146,
      "metadata": {},
      "outputs": [
        {
          "name": "stdout",
          "output_type": "stream",
          "text": [
            "🎨 Structured Flow RAG Graph with Two Conditional Routing Points:\n"
          ]
        },
        {
          "data": {
            "image/png": "[encoded data removed]",
            "text/plain": [
              "<IPython.core.display.Image object>"
            ]
          },
          "metadata": {},
          "output_type": "display_data"
        }
      ],
      "source": [
        "# Visualize the Structured Flow Graph\n",
        "print(\"🎨 Structured Flow RAG Graph with Two Conditional Routing Points:\")\n",
        "structured_graph_data = structured_flow_graph.get_graph().draw_mermaid_png(draw_method=MermaidDrawMethod.PYPPETEER)\n",
        "display(Image(structured_graph_data))"
      ]
    },
    {
      "cell_type": "code",
      "execution_count": 154,
      "metadata": {},
      "outputs": [
        {
          "name": "stdout",
          "output_type": "stream",
          "text": [
            "======================================================================\n",
            "🧪 TESTING STRUCTURED FLOW: Context Check → Fact-Check\n",
            "======================================================================\n",
            "\n",
            "📝 Test 1: Question with context + uncertainty\n",
            "Question: What are the global patterns of ChatGPT usage showing explicit evidence?\n",
            "Expected: Context found → Generate → Fact-check needed → Improve\n",
            "📄 Score: 0.6080 | Content: Panel A. Work Related\n",
            "Panel B1. Asking.\n",
            "Panel B2. Doing.\n",
            "Figure 23: (continued o...\n",
            "📄 Score: 0.6080 | Content: Panel A. Work Related\n",
            "Panel B1. Asking.\n",
            "Panel B2. Doing.\n",
            "Figure 23: (continued o...\n",
            "📄 Score: 0.6021 | Content: Panel A. Work Related\n",
            "Panel B1. Asking.\n",
            "Panel B2. Doing.\n",
            "Panel B3. Expressing.\n",
            "F...\n",
            "📄 Score: 0.6021 | Content: Panel A. Work Related\n",
            "Panel B1. Asking.\n",
            "Panel B2. Doing.\n",
            "Panel B3. Expressing.\n",
            "F...\n",
            "📄 Score: 0.5951 | Content: 27As discussed in Section: Data and Privacy, our dataset only includes users on ...\n",
            "📄 Score: 0.5951 | Content: 27As discussed in Section: Data and Privacy, our dataset only includes users on ...\n",
            "📄 Score: 0.5871 | Content: in knowledge-intensive jobs where productivity is increasing in the quality of d...\n",
            "📄 Score: 0.5871 | Content: in knowledge-intensive jobs where productivity is increasing in the quality of d...\n",
            "📄 Score: 0.5817 | Content: E.g. 'User is rewriting email to neighbors about\n",
            "plumbing to be more friendly,'\n",
            "...\n",
            "📄 Score: 0.5817 | Content: E.g. 'User is rewriting email to neighbors about\n",
            "plumbing to be more friendly,'\n",
            "...\n",
            "✅ 10 documents above threshold 0.4\n",
            "🎯 Context found - routing to generation\n",
            "✅ Generated response using 10 context documents\n",
            "🔍 Needs fact-checking: True\n",
            "🔍 Fact-checking needed - routing to improvement\n",
            "🔧 Improved response with fact-checking\n",
            "✅ Has Context: True\n",
            "🔍 Needed Fact-Check: True\n",
            "💬 Final Response: <think>\n",
            "Okay, the user wants me to improve the previous response by adding confidence qualifiers and being more explicit about the source material. Let me start by reviewing the original response and the context provided.\n",
            "\n",
            "The original response mentioned that the context highlights work-related usage, classifications like Asking/Doing/Expressing, occupation breakdowns, and dataset limitations. But the user wants more explicit references to the source material and confidence qualifiers. \n",
            "\n",
            "First, I need to ensure that each claim is tied directly to the context. For example, when I say \"significant portion of ChatGPT usage is tied to work-related tasks,\" I should reference the specific part in the context that mentions this. The context says, \"work-related messages and categories like Asking, Doing, Expressing,\" so I can cite that. \n",
            "\n",
            "Next, the classification of interactions (Asking/Doing/Expressing) is mentioned in Panels B1–B3, so I should specify that. The occupation breakdown is in Appendix D, so I need to mention that explicitly. \n",
            "\n",
            "The dataset limitation to Consumer plans is in the footnotes, so I should reference that. Also, the IWA classification method (two annotators vs. three) is mentioned in the footnotes, so I need to clarify that. \n",
            "\n",
            "I should add confidence qualifiers like \"based on the context\" or \"as indicated by the material\" to avoid overstating the evidence. For example, instead of saying \"significant portion,\" I could say \"as indicated by the context, work-related messages constitute a notable proportion of interactions.\" \n",
            "\n",
            "I need to make sure each point is explicitly tied to the source material and that confidence is appropriately noted. Also, avoid making assumptions beyond what's in the context. For instance, the original response mentioned \"knowledge-intensive jobs,\" which is from the context, so I should rephrase that to reflect the source. \n",
            "\n",
            "Finally, I should structure the response to clearly separate each point, cite the source, and use qualifiers where necessary. This will make the response more accurate and transparent about the evidence provided.\n",
            "</think>\n",
            "\n",
            "**Improved Response with Confidence Qualifiers and Explicit Source References:**  \n",
            "\n",
            "The context provided indicates the following **explicit evidence** of global ChatGPT usage patterns, though these insights are limited to the dataset described and should be interpreted with caution:  \n",
            "\n",
            "1. **Work-Related Focus**:  \n",
            "   - A **notable proportion of interactions** involve work-related tasks, particularly in **knowledge-intensive jobs** (e.g., writing professional emails, troubleshooting technical issues like Python/Databricks errors, or addressing workplace concerns). This is explicitly mentioned in the text describing \"work-related messages and categories like Asking, Doing, Expressing\" (Panel B1–B3).  \n",
            "   - **Confidence qualifier**: This conclusion is based on the categorization of messages into \"Asking,\" \"Doing,\" and \"Expressing,\" but the exact proportion of work-related vs. personal interactions is not quantified.  \n",
            "\n",
            "2. **Classification of Interactions**:  \n",
            "   - Messages are categorized into three types:  \n",
            "     - **Asking**: Likely for problem-solving or clarification (e.g., \"How do I fix this Python error?\").  \n",
            "     - **Doing**: Task execution (e.g., rewriting an email).  \n",
            "     - **Expressing**: Rarely applied to work-related messages (footnote 1).  \n",
            "   - **Confidence qualifier**: This classification system is explicitly outlined in Panels B1–B3, but the methodology for assigning these labels (e.g., annotator consistency) is not fully detailed.  \n",
            "\n",
            "3. **Occupation-Specific Usage**:  \n",
            "   - Appendix D includes a **report stratified by occupation**, suggesting varied usage across professions. For example, roles requiring technical or administrative tasks may dominate usage, while \"Expressing\" (e.g., personal complaints) is less common in professional contexts.  \n",
            "   - **Confidence qualifier**: The exact breakdown by occupation is described in Appendix D, but specific occupations or their relative usage intensity are not detailed in the provided text.  \n",
            "\n",
            "4. **Dataset Limitations**:  \n",
            "   - The dataset includes **only Consumer plan users**, excluding corporate/enterprise users (Business/Enterprise plans). This means insights are limited to individual users and may not reflect broader organizational adoption.  \n",
            "   - **Confidence qualifier**: This limitation is explicitly stated in footnotes, but the extent of corporate vs. consumer usage globally is not quantified.  \n",
            "\n",
            "5. **Annotation Methodology**:  \n",
            "   - **IWA (Interactive Work Activity)** classifications were conducted by two annotators, while other categories used three annotators. This may influence consistency in categorization.  \n",
            "   - **Confidence qualifier**: The difference in annotation methods is noted in footnotes, but the impact on classification accuracy or reliability is not elaborated.  \n",
            "\n",
            "**Conclusion**: The provided context highlights **work-centric usage patterns** and **occupation-specific activity**, but these findings are constrained by the dataset’s focus on Consumer plan users and lack of granular global statistics. Further analysis would require access to additional datasets or longitudinal studies.  \n",
            "\n",
            "**Confidence qualifiers throughout**: \"Based on the context,\" \"as indicated by the material,\" \"this conclusion is limited to the dataset described,\" and \"these findings are constrained by...\" ensure transparency about the scope of the evidence.\n",
            "\n",
            "======================================================================\n"
          ]
        }
      ],
      "source": [
        "# Test the Structured Flow System\n",
        "print(\"=\"*70)\n",
        "print(\"🧪 TESTING STRUCTURED FLOW: Context Check → Fact-Check\")\n",
        "print(\"=\"*70)\n",
        "\n",
        "# Test Case 1: Question with context that needs fact-checking\n",
        "question = \"What are the global patterns of ChatGPT usage showing explicit evidence?\"\n",
        "print(\"\\n📝 Test 1: Question with context + uncertainty\")\n",
        "print(f\"Question: {question}\")\n",
        "print(\"Expected: Context found → Generate → Fact-check needed → Improve\")\n",
        "\n",
        "result1 = structured_flow_graph.invoke({\n",
        "    \"question\": question,\n",
        "    \"score_threshold\": 0.4,\n",
        "})\n",
        "\n",
        "print(f\"✅ Has Context: {result1['has_relevant_context']}\")\n",
        "print(f\"🔍 Needed Fact-Check: {result1['needs_fact_check']}\")\n",
        "print(f\"💬 Final Response: {result1['final_response']}\")\n",
        "\n",
        "print(\"\\n\" + \"=\"*70)\n"
      ]
    },
    {
      "cell_type": "markdown",
      "metadata": {},
      "source": [
        "### 📝 Summary for Answer 2.2: Structured Flow with Two Conditional Routing Points\n",
        "\n",
        "This implementation creates the exact flow you requested:\n",
        "\n",
        "#### ✅ **Clear Decision Tree Structure**\n",
        "\n",
        "1. **Context Check First**: \n",
        "   ```\n",
        "   retrieve → [has context?] \n",
        "       ├─ NO  → fallback → END\n",
        "       └─ YES → continue to generation\n",
        "   ```\n",
        "\n",
        "2. **Fact-Check Second** (only if context exists):\n",
        "   ```\n",
        "   generate → [needs fact-check?]\n",
        "       ├─ YES → improve → END  \n",
        "       └─ NO  → pass_through → END\n",
        "   ```\n",
        "\n",
        "#### 🎯 **Key Benefits**\n",
        "\n",
        "- **Clean Separation**: Each conditional routing point has a single responsibility\n",
        "- **Efficient Path**: No-context questions skip fact-checking entirely\n",
        "- **Clear Logic**: Easy to understand and debug each decision point\n",
        "- **Extensible**: Easy to add more conditions at each routing point\n",
        "\n",
        "#### 🔄 **Three Possible Paths**\n",
        "\n",
        "1. **No Context Path**: `retrieve → fallback → END`\n",
        "2. **Context + Fact-Check Path**: `retrieve → generate → improve → END`  \n",
        "3. **Context + Pass-Through Path**: `retrieve → generate → pass_through → END`\n",
        "\n",
        "This structured approach provides clear separation of concerns while maintaining the enhanced retrieval capabilities and fact-checking functionality!\n"
      ]
    }
  ],
  "metadata": {
    "accelerator": "GPU",
    "colab": {
      "gpuType": "T4",
      "machine_shape": "hm",
      "provenance": [],
      "toc_visible": true
    },
    "kernelspec": {
      "display_name": ".venv",
      "language": "python",
      "name": "python3"
    },
    "language_info": {
      "codemirror_mode": {
        "name": "ipython",
        "version": 3
      },
      "file_extension": ".py",
      "mimetype": "text/x-python",
      "name": "python",
      "nbconvert_exporter": "python",
      "pygments_lexer": "ipython3",
      "version": "3.12.10"
    }
  },
  "nbformat": 4,
  "nbformat_minor": 0
}
